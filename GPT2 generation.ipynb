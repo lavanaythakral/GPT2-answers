{
  "nbformat": 4,
  "nbformat_minor": 0,
  "metadata": {
    "colab": {
      "name": "GPT2 answers.ipynb",
      "provenance": [],
      "authorship_tag": "ABX9TyMiAMALoI6sjj9uV7Ti2B9T",
      "include_colab_link": true
    },
    "kernelspec": {
      "name": "python3",
      "display_name": "Python 3"
    },
    "accelerator": "GPU",
    "widgets": {
      "application/vnd.jupyter.widget-state+json": {
        "26a8a931fb2c4dc4abfcc1a3a1a992fe": {
          "model_module": "@jupyter-widgets/controls",
          "model_name": "HBoxModel",
          "state": {
            "_view_name": "HBoxView",
            "_dom_classes": [],
            "_model_name": "HBoxModel",
            "_view_module": "@jupyter-widgets/controls",
            "_model_module_version": "1.5.0",
            "_view_count": null,
            "_view_module_version": "1.5.0",
            "box_style": "",
            "layout": "IPY_MODEL_3e729e40c1c0489e9099a38f8fa6df15",
            "_model_module": "@jupyter-widgets/controls",
            "children": [
              "IPY_MODEL_120d0fd4b8bf411b91220f01060ea042",
              "IPY_MODEL_6714f1f876304fd6b9a2f0f93d9bf293"
            ]
          }
        },
        "3e729e40c1c0489e9099a38f8fa6df15": {
          "model_module": "@jupyter-widgets/base",
          "model_name": "LayoutModel",
          "state": {
            "_view_name": "LayoutView",
            "grid_template_rows": null,
            "right": null,
            "justify_content": null,
            "_view_module": "@jupyter-widgets/base",
            "overflow": null,
            "_model_module_version": "1.2.0",
            "_view_count": null,
            "flex_flow": null,
            "width": null,
            "min_width": null,
            "border": null,
            "align_items": null,
            "bottom": null,
            "_model_module": "@jupyter-widgets/base",
            "top": null,
            "grid_column": null,
            "overflow_y": null,
            "overflow_x": null,
            "grid_auto_flow": null,
            "grid_area": null,
            "grid_template_columns": null,
            "flex": null,
            "_model_name": "LayoutModel",
            "justify_items": null,
            "grid_row": null,
            "max_height": null,
            "align_content": null,
            "visibility": null,
            "align_self": null,
            "height": null,
            "min_height": null,
            "padding": null,
            "grid_auto_rows": null,
            "grid_gap": null,
            "max_width": null,
            "order": null,
            "_view_module_version": "1.2.0",
            "grid_template_areas": null,
            "object_position": null,
            "object_fit": null,
            "grid_auto_columns": null,
            "margin": null,
            "display": null,
            "left": null
          }
        },
        "120d0fd4b8bf411b91220f01060ea042": {
          "model_module": "@jupyter-widgets/controls",
          "model_name": "FloatProgressModel",
          "state": {
            "_view_name": "ProgressView",
            "style": "IPY_MODEL_3cf81435051d4bda875505b206b518b8",
            "_dom_classes": [],
            "description": "Downloading: 100%",
            "_model_name": "FloatProgressModel",
            "bar_style": "success",
            "max": 433,
            "_view_module": "@jupyter-widgets/controls",
            "_model_module_version": "1.5.0",
            "value": 433,
            "_view_count": null,
            "_view_module_version": "1.5.0",
            "orientation": "horizontal",
            "min": 0,
            "description_tooltip": null,
            "_model_module": "@jupyter-widgets/controls",
            "layout": "IPY_MODEL_210bbe69de1f4849b0985e4c742c1831"
          }
        },
        "6714f1f876304fd6b9a2f0f93d9bf293": {
          "model_module": "@jupyter-widgets/controls",
          "model_name": "HTMLModel",
          "state": {
            "_view_name": "HTMLView",
            "style": "IPY_MODEL_0b36ea3acd6e427eac2d80acb96cd08d",
            "_dom_classes": [],
            "description": "",
            "_model_name": "HTMLModel",
            "placeholder": "​",
            "_view_module": "@jupyter-widgets/controls",
            "_model_module_version": "1.5.0",
            "value": " 433/433 [12:55&lt;00:00, 1.79s/B]",
            "_view_count": null,
            "_view_module_version": "1.5.0",
            "description_tooltip": null,
            "_model_module": "@jupyter-widgets/controls",
            "layout": "IPY_MODEL_f6276aa962e04f66b31d7467edd43516"
          }
        },
        "3cf81435051d4bda875505b206b518b8": {
          "model_module": "@jupyter-widgets/controls",
          "model_name": "ProgressStyleModel",
          "state": {
            "_view_name": "StyleView",
            "_model_name": "ProgressStyleModel",
            "description_width": "initial",
            "_view_module": "@jupyter-widgets/base",
            "_model_module_version": "1.5.0",
            "_view_count": null,
            "_view_module_version": "1.2.0",
            "bar_color": null,
            "_model_module": "@jupyter-widgets/controls"
          }
        },
        "210bbe69de1f4849b0985e4c742c1831": {
          "model_module": "@jupyter-widgets/base",
          "model_name": "LayoutModel",
          "state": {
            "_view_name": "LayoutView",
            "grid_template_rows": null,
            "right": null,
            "justify_content": null,
            "_view_module": "@jupyter-widgets/base",
            "overflow": null,
            "_model_module_version": "1.2.0",
            "_view_count": null,
            "flex_flow": null,
            "width": null,
            "min_width": null,
            "border": null,
            "align_items": null,
            "bottom": null,
            "_model_module": "@jupyter-widgets/base",
            "top": null,
            "grid_column": null,
            "overflow_y": null,
            "overflow_x": null,
            "grid_auto_flow": null,
            "grid_area": null,
            "grid_template_columns": null,
            "flex": null,
            "_model_name": "LayoutModel",
            "justify_items": null,
            "grid_row": null,
            "max_height": null,
            "align_content": null,
            "visibility": null,
            "align_self": null,
            "height": null,
            "min_height": null,
            "padding": null,
            "grid_auto_rows": null,
            "grid_gap": null,
            "max_width": null,
            "order": null,
            "_view_module_version": "1.2.0",
            "grid_template_areas": null,
            "object_position": null,
            "object_fit": null,
            "grid_auto_columns": null,
            "margin": null,
            "display": null,
            "left": null
          }
        },
        "0b36ea3acd6e427eac2d80acb96cd08d": {
          "model_module": "@jupyter-widgets/controls",
          "model_name": "DescriptionStyleModel",
          "state": {
            "_view_name": "StyleView",
            "_model_name": "DescriptionStyleModel",
            "description_width": "",
            "_view_module": "@jupyter-widgets/base",
            "_model_module_version": "1.5.0",
            "_view_count": null,
            "_view_module_version": "1.2.0",
            "_model_module": "@jupyter-widgets/controls"
          }
        },
        "f6276aa962e04f66b31d7467edd43516": {
          "model_module": "@jupyter-widgets/base",
          "model_name": "LayoutModel",
          "state": {
            "_view_name": "LayoutView",
            "grid_template_rows": null,
            "right": null,
            "justify_content": null,
            "_view_module": "@jupyter-widgets/base",
            "overflow": null,
            "_model_module_version": "1.2.0",
            "_view_count": null,
            "flex_flow": null,
            "width": null,
            "min_width": null,
            "border": null,
            "align_items": null,
            "bottom": null,
            "_model_module": "@jupyter-widgets/base",
            "top": null,
            "grid_column": null,
            "overflow_y": null,
            "overflow_x": null,
            "grid_auto_flow": null,
            "grid_area": null,
            "grid_template_columns": null,
            "flex": null,
            "_model_name": "LayoutModel",
            "justify_items": null,
            "grid_row": null,
            "max_height": null,
            "align_content": null,
            "visibility": null,
            "align_self": null,
            "height": null,
            "min_height": null,
            "padding": null,
            "grid_auto_rows": null,
            "grid_gap": null,
            "max_width": null,
            "order": null,
            "_view_module_version": "1.2.0",
            "grid_template_areas": null,
            "object_position": null,
            "object_fit": null,
            "grid_auto_columns": null,
            "margin": null,
            "display": null,
            "left": null
          }
        },
        "8df369fa69cc4b9d99ed1929030b2329": {
          "model_module": "@jupyter-widgets/controls",
          "model_name": "HBoxModel",
          "state": {
            "_view_name": "HBoxView",
            "_dom_classes": [],
            "_model_name": "HBoxModel",
            "_view_module": "@jupyter-widgets/controls",
            "_model_module_version": "1.5.0",
            "_view_count": null,
            "_view_module_version": "1.5.0",
            "box_style": "",
            "layout": "IPY_MODEL_79102af3682143889fe59b036e12584d",
            "_model_module": "@jupyter-widgets/controls",
            "children": [
              "IPY_MODEL_7afed0b37f934d1e9a77e5dbaf9bc493",
              "IPY_MODEL_9c98e07946314a4eb88ef2f38bde8d9f"
            ]
          }
        },
        "79102af3682143889fe59b036e12584d": {
          "model_module": "@jupyter-widgets/base",
          "model_name": "LayoutModel",
          "state": {
            "_view_name": "LayoutView",
            "grid_template_rows": null,
            "right": null,
            "justify_content": null,
            "_view_module": "@jupyter-widgets/base",
            "overflow": null,
            "_model_module_version": "1.2.0",
            "_view_count": null,
            "flex_flow": null,
            "width": null,
            "min_width": null,
            "border": null,
            "align_items": null,
            "bottom": null,
            "_model_module": "@jupyter-widgets/base",
            "top": null,
            "grid_column": null,
            "overflow_y": null,
            "overflow_x": null,
            "grid_auto_flow": null,
            "grid_area": null,
            "grid_template_columns": null,
            "flex": null,
            "_model_name": "LayoutModel",
            "justify_items": null,
            "grid_row": null,
            "max_height": null,
            "align_content": null,
            "visibility": null,
            "align_self": null,
            "height": null,
            "min_height": null,
            "padding": null,
            "grid_auto_rows": null,
            "grid_gap": null,
            "max_width": null,
            "order": null,
            "_view_module_version": "1.2.0",
            "grid_template_areas": null,
            "object_position": null,
            "object_fit": null,
            "grid_auto_columns": null,
            "margin": null,
            "display": null,
            "left": null
          }
        },
        "7afed0b37f934d1e9a77e5dbaf9bc493": {
          "model_module": "@jupyter-widgets/controls",
          "model_name": "FloatProgressModel",
          "state": {
            "_view_name": "ProgressView",
            "style": "IPY_MODEL_aeac7398c7bc46e6ba9b4e44b5cbc682",
            "_dom_classes": [],
            "description": "Downloading: 100%",
            "_model_name": "FloatProgressModel",
            "bar_style": "success",
            "max": 435779157,
            "_view_module": "@jupyter-widgets/controls",
            "_model_module_version": "1.5.0",
            "value": 435779157,
            "_view_count": null,
            "_view_module_version": "1.5.0",
            "orientation": "horizontal",
            "min": 0,
            "description_tooltip": null,
            "_model_module": "@jupyter-widgets/controls",
            "layout": "IPY_MODEL_03d82caf8dbb4cb597eb668238f34767"
          }
        },
        "9c98e07946314a4eb88ef2f38bde8d9f": {
          "model_module": "@jupyter-widgets/controls",
          "model_name": "HTMLModel",
          "state": {
            "_view_name": "HTMLView",
            "style": "IPY_MODEL_bd56f4253a5b4c77ae147ea843989558",
            "_dom_classes": [],
            "description": "",
            "_model_name": "HTMLModel",
            "placeholder": "​",
            "_view_module": "@jupyter-widgets/controls",
            "_model_module_version": "1.5.0",
            "value": " 436M/436M [00:09&lt;00:00, 44.4MB/s]",
            "_view_count": null,
            "_view_module_version": "1.5.0",
            "description_tooltip": null,
            "_model_module": "@jupyter-widgets/controls",
            "layout": "IPY_MODEL_ea28e13777284432a44261a0e56fea2e"
          }
        },
        "aeac7398c7bc46e6ba9b4e44b5cbc682": {
          "model_module": "@jupyter-widgets/controls",
          "model_name": "ProgressStyleModel",
          "state": {
            "_view_name": "StyleView",
            "_model_name": "ProgressStyleModel",
            "description_width": "initial",
            "_view_module": "@jupyter-widgets/base",
            "_model_module_version": "1.5.0",
            "_view_count": null,
            "_view_module_version": "1.2.0",
            "bar_color": null,
            "_model_module": "@jupyter-widgets/controls"
          }
        },
        "03d82caf8dbb4cb597eb668238f34767": {
          "model_module": "@jupyter-widgets/base",
          "model_name": "LayoutModel",
          "state": {
            "_view_name": "LayoutView",
            "grid_template_rows": null,
            "right": null,
            "justify_content": null,
            "_view_module": "@jupyter-widgets/base",
            "overflow": null,
            "_model_module_version": "1.2.0",
            "_view_count": null,
            "flex_flow": null,
            "width": null,
            "min_width": null,
            "border": null,
            "align_items": null,
            "bottom": null,
            "_model_module": "@jupyter-widgets/base",
            "top": null,
            "grid_column": null,
            "overflow_y": null,
            "overflow_x": null,
            "grid_auto_flow": null,
            "grid_area": null,
            "grid_template_columns": null,
            "flex": null,
            "_model_name": "LayoutModel",
            "justify_items": null,
            "grid_row": null,
            "max_height": null,
            "align_content": null,
            "visibility": null,
            "align_self": null,
            "height": null,
            "min_height": null,
            "padding": null,
            "grid_auto_rows": null,
            "grid_gap": null,
            "max_width": null,
            "order": null,
            "_view_module_version": "1.2.0",
            "grid_template_areas": null,
            "object_position": null,
            "object_fit": null,
            "grid_auto_columns": null,
            "margin": null,
            "display": null,
            "left": null
          }
        },
        "bd56f4253a5b4c77ae147ea843989558": {
          "model_module": "@jupyter-widgets/controls",
          "model_name": "DescriptionStyleModel",
          "state": {
            "_view_name": "StyleView",
            "_model_name": "DescriptionStyleModel",
            "description_width": "",
            "_view_module": "@jupyter-widgets/base",
            "_model_module_version": "1.5.0",
            "_view_count": null,
            "_view_module_version": "1.2.0",
            "_model_module": "@jupyter-widgets/controls"
          }
        },
        "ea28e13777284432a44261a0e56fea2e": {
          "model_module": "@jupyter-widgets/base",
          "model_name": "LayoutModel",
          "state": {
            "_view_name": "LayoutView",
            "grid_template_rows": null,
            "right": null,
            "justify_content": null,
            "_view_module": "@jupyter-widgets/base",
            "overflow": null,
            "_model_module_version": "1.2.0",
            "_view_count": null,
            "flex_flow": null,
            "width": null,
            "min_width": null,
            "border": null,
            "align_items": null,
            "bottom": null,
            "_model_module": "@jupyter-widgets/base",
            "top": null,
            "grid_column": null,
            "overflow_y": null,
            "overflow_x": null,
            "grid_auto_flow": null,
            "grid_area": null,
            "grid_template_columns": null,
            "flex": null,
            "_model_name": "LayoutModel",
            "justify_items": null,
            "grid_row": null,
            "max_height": null,
            "align_content": null,
            "visibility": null,
            "align_self": null,
            "height": null,
            "min_height": null,
            "padding": null,
            "grid_auto_rows": null,
            "grid_gap": null,
            "max_width": null,
            "order": null,
            "_view_module_version": "1.2.0",
            "grid_template_areas": null,
            "object_position": null,
            "object_fit": null,
            "grid_auto_columns": null,
            "margin": null,
            "display": null,
            "left": null
          }
        },
        "e4ded353e5aa4a27a2df84f4b8e34a0f": {
          "model_module": "@jupyter-widgets/controls",
          "model_name": "HBoxModel",
          "state": {
            "_view_name": "HBoxView",
            "_dom_classes": [],
            "_model_name": "HBoxModel",
            "_view_module": "@jupyter-widgets/controls",
            "_model_module_version": "1.5.0",
            "_view_count": null,
            "_view_module_version": "1.5.0",
            "box_style": "",
            "layout": "IPY_MODEL_fe6e05d227e546d790a90ad7dba67d2b",
            "_model_module": "@jupyter-widgets/controls",
            "children": [
              "IPY_MODEL_d8e7db4a279c4a0581a9c28e044efc03",
              "IPY_MODEL_e88a68ebd2de42e18c8ca867398c1113"
            ]
          }
        },
        "fe6e05d227e546d790a90ad7dba67d2b": {
          "model_module": "@jupyter-widgets/base",
          "model_name": "LayoutModel",
          "state": {
            "_view_name": "LayoutView",
            "grid_template_rows": null,
            "right": null,
            "justify_content": null,
            "_view_module": "@jupyter-widgets/base",
            "overflow": null,
            "_model_module_version": "1.2.0",
            "_view_count": null,
            "flex_flow": null,
            "width": null,
            "min_width": null,
            "border": null,
            "align_items": null,
            "bottom": null,
            "_model_module": "@jupyter-widgets/base",
            "top": null,
            "grid_column": null,
            "overflow_y": null,
            "overflow_x": null,
            "grid_auto_flow": null,
            "grid_area": null,
            "grid_template_columns": null,
            "flex": null,
            "_model_name": "LayoutModel",
            "justify_items": null,
            "grid_row": null,
            "max_height": null,
            "align_content": null,
            "visibility": null,
            "align_self": null,
            "height": null,
            "min_height": null,
            "padding": null,
            "grid_auto_rows": null,
            "grid_gap": null,
            "max_width": null,
            "order": null,
            "_view_module_version": "1.2.0",
            "grid_template_areas": null,
            "object_position": null,
            "object_fit": null,
            "grid_auto_columns": null,
            "margin": null,
            "display": null,
            "left": null
          }
        },
        "d8e7db4a279c4a0581a9c28e044efc03": {
          "model_module": "@jupyter-widgets/controls",
          "model_name": "FloatProgressModel",
          "state": {
            "_view_name": "ProgressView",
            "style": "IPY_MODEL_fcb6376fe57949c79dbfe2597adbeb8b",
            "_dom_classes": [],
            "description": "Downloading: 100%",
            "_model_name": "FloatProgressModel",
            "bar_style": "success",
            "max": 213450,
            "_view_module": "@jupyter-widgets/controls",
            "_model_module_version": "1.5.0",
            "value": 213450,
            "_view_count": null,
            "_view_module_version": "1.5.0",
            "orientation": "horizontal",
            "min": 0,
            "description_tooltip": null,
            "_model_module": "@jupyter-widgets/controls",
            "layout": "IPY_MODEL_1f1cacd89dd14bd78db6670715b5938f"
          }
        },
        "e88a68ebd2de42e18c8ca867398c1113": {
          "model_module": "@jupyter-widgets/controls",
          "model_name": "HTMLModel",
          "state": {
            "_view_name": "HTMLView",
            "style": "IPY_MODEL_eb0f9c3bca9549009ffad92373deab15",
            "_dom_classes": [],
            "description": "",
            "_model_name": "HTMLModel",
            "placeholder": "​",
            "_view_module": "@jupyter-widgets/controls",
            "_model_module_version": "1.5.0",
            "value": " 213k/213k [00:00&lt;00:00, 685kB/s]",
            "_view_count": null,
            "_view_module_version": "1.5.0",
            "description_tooltip": null,
            "_model_module": "@jupyter-widgets/controls",
            "layout": "IPY_MODEL_6eee8d8b99e840cdb123fa5f05f04e14"
          }
        },
        "fcb6376fe57949c79dbfe2597adbeb8b": {
          "model_module": "@jupyter-widgets/controls",
          "model_name": "ProgressStyleModel",
          "state": {
            "_view_name": "StyleView",
            "_model_name": "ProgressStyleModel",
            "description_width": "initial",
            "_view_module": "@jupyter-widgets/base",
            "_model_module_version": "1.5.0",
            "_view_count": null,
            "_view_module_version": "1.2.0",
            "bar_color": null,
            "_model_module": "@jupyter-widgets/controls"
          }
        },
        "1f1cacd89dd14bd78db6670715b5938f": {
          "model_module": "@jupyter-widgets/base",
          "model_name": "LayoutModel",
          "state": {
            "_view_name": "LayoutView",
            "grid_template_rows": null,
            "right": null,
            "justify_content": null,
            "_view_module": "@jupyter-widgets/base",
            "overflow": null,
            "_model_module_version": "1.2.0",
            "_view_count": null,
            "flex_flow": null,
            "width": null,
            "min_width": null,
            "border": null,
            "align_items": null,
            "bottom": null,
            "_model_module": "@jupyter-widgets/base",
            "top": null,
            "grid_column": null,
            "overflow_y": null,
            "overflow_x": null,
            "grid_auto_flow": null,
            "grid_area": null,
            "grid_template_columns": null,
            "flex": null,
            "_model_name": "LayoutModel",
            "justify_items": null,
            "grid_row": null,
            "max_height": null,
            "align_content": null,
            "visibility": null,
            "align_self": null,
            "height": null,
            "min_height": null,
            "padding": null,
            "grid_auto_rows": null,
            "grid_gap": null,
            "max_width": null,
            "order": null,
            "_view_module_version": "1.2.0",
            "grid_template_areas": null,
            "object_position": null,
            "object_fit": null,
            "grid_auto_columns": null,
            "margin": null,
            "display": null,
            "left": null
          }
        },
        "eb0f9c3bca9549009ffad92373deab15": {
          "model_module": "@jupyter-widgets/controls",
          "model_name": "DescriptionStyleModel",
          "state": {
            "_view_name": "StyleView",
            "_model_name": "DescriptionStyleModel",
            "description_width": "",
            "_view_module": "@jupyter-widgets/base",
            "_model_module_version": "1.5.0",
            "_view_count": null,
            "_view_module_version": "1.2.0",
            "_model_module": "@jupyter-widgets/controls"
          }
        },
        "6eee8d8b99e840cdb123fa5f05f04e14": {
          "model_module": "@jupyter-widgets/base",
          "model_name": "LayoutModel",
          "state": {
            "_view_name": "LayoutView",
            "grid_template_rows": null,
            "right": null,
            "justify_content": null,
            "_view_module": "@jupyter-widgets/base",
            "overflow": null,
            "_model_module_version": "1.2.0",
            "_view_count": null,
            "flex_flow": null,
            "width": null,
            "min_width": null,
            "border": null,
            "align_items": null,
            "bottom": null,
            "_model_module": "@jupyter-widgets/base",
            "top": null,
            "grid_column": null,
            "overflow_y": null,
            "overflow_x": null,
            "grid_auto_flow": null,
            "grid_area": null,
            "grid_template_columns": null,
            "flex": null,
            "_model_name": "LayoutModel",
            "justify_items": null,
            "grid_row": null,
            "max_height": null,
            "align_content": null,
            "visibility": null,
            "align_self": null,
            "height": null,
            "min_height": null,
            "padding": null,
            "grid_auto_rows": null,
            "grid_gap": null,
            "max_width": null,
            "order": null,
            "_view_module_version": "1.2.0",
            "grid_template_areas": null,
            "object_position": null,
            "object_fit": null,
            "grid_auto_columns": null,
            "margin": null,
            "display": null,
            "left": null
          }
        }
      }
    }
  },
  "cells": [
    {
      "cell_type": "markdown",
      "metadata": {
        "id": "view-in-github",
        "colab_type": "text"
      },
      "source": [
        "<a href=\"https://colab.research.google.com/github/lavanaythakral/GPT2-answers/blob/master/GPT2%20generation.ipynb\" target=\"_parent\"><img src=\"https://colab.research.google.com/assets/colab-badge.svg\" alt=\"Open In Colab\"/></a>"
      ]
    },
    {
      "cell_type": "markdown",
      "metadata": {
        "id": "Q3iojS0o8SZG"
      },
      "source": [
        "#Prerequisites"
      ]
    },
    {
      "cell_type": "code",
      "metadata": {
        "id": "FfLLMxpx7udD"
      },
      "source": [
        "%tensorflow_version 1.x\n",
        "!pip install -q gpt-2-simple\n",
        "import gpt_2_simple as gpt2\n",
        "from datetime import datetime\n",
        "from google.colab import files\n",
        "import pandas as pd\n",
        "import re\n"
      ],
      "execution_count": 5,
      "outputs": []
    },
    {
      "cell_type": "code",
      "metadata": {
        "id": "_QET2pnc8FxH",
        "outputId": "4be3ef2b-6808-478b-857e-91c34451d8a9",
        "colab": {
          "base_uri": "https://localhost:8080/",
          "height": 570
        }
      },
      "source": [
        "!pip install transformers"
      ],
      "execution_count": 2,
      "outputs": [
        {
          "output_type": "stream",
          "text": [
            "Collecting transformers\n",
            "\u001b[?25l  Downloading https://files.pythonhosted.org/packages/19/22/aff234f4a841f8999e68a7a94bdd4b60b4cebcfeca5d67d61cd08c9179de/transformers-3.3.1-py3-none-any.whl (1.1MB)\n",
            "\r\u001b[K     |▎                               | 10kB 21.0MB/s eta 0:00:01\r\u001b[K     |▋                               | 20kB 4.5MB/s eta 0:00:01\r\u001b[K     |█                               | 30kB 5.8MB/s eta 0:00:01\r\u001b[K     |█▎                              | 40kB 6.0MB/s eta 0:00:01\r\u001b[K     |█▌                              | 51kB 5.1MB/s eta 0:00:01\r\u001b[K     |█▉                              | 61kB 5.7MB/s eta 0:00:01\r\u001b[K     |██▏                             | 71kB 6.1MB/s eta 0:00:01\r\u001b[K     |██▌                             | 81kB 6.6MB/s eta 0:00:01\r\u001b[K     |██▉                             | 92kB 6.3MB/s eta 0:00:01\r\u001b[K     |███                             | 102kB 6.8MB/s eta 0:00:01\r\u001b[K     |███▍                            | 112kB 6.8MB/s eta 0:00:01\r\u001b[K     |███▊                            | 122kB 6.8MB/s eta 0:00:01\r\u001b[K     |████                            | 133kB 6.8MB/s eta 0:00:01\r\u001b[K     |████▎                           | 143kB 6.8MB/s eta 0:00:01\r\u001b[K     |████▋                           | 153kB 6.8MB/s eta 0:00:01\r\u001b[K     |█████                           | 163kB 6.8MB/s eta 0:00:01\r\u001b[K     |█████▎                          | 174kB 6.8MB/s eta 0:00:01\r\u001b[K     |█████▋                          | 184kB 6.8MB/s eta 0:00:01\r\u001b[K     |█████▉                          | 194kB 6.8MB/s eta 0:00:01\r\u001b[K     |██████▏                         | 204kB 6.8MB/s eta 0:00:01\r\u001b[K     |██████▌                         | 215kB 6.8MB/s eta 0:00:01\r\u001b[K     |██████▉                         | 225kB 6.8MB/s eta 0:00:01\r\u001b[K     |███████                         | 235kB 6.8MB/s eta 0:00:01\r\u001b[K     |███████▍                        | 245kB 6.8MB/s eta 0:00:01\r\u001b[K     |███████▊                        | 256kB 6.8MB/s eta 0:00:01\r\u001b[K     |████████                        | 266kB 6.8MB/s eta 0:00:01\r\u001b[K     |████████▍                       | 276kB 6.8MB/s eta 0:00:01\r\u001b[K     |████████▋                       | 286kB 6.8MB/s eta 0:00:01\r\u001b[K     |█████████                       | 296kB 6.8MB/s eta 0:00:01\r\u001b[K     |█████████▎                      | 307kB 6.8MB/s eta 0:00:01\r\u001b[K     |█████████▋                      | 317kB 6.8MB/s eta 0:00:01\r\u001b[K     |█████████▉                      | 327kB 6.8MB/s eta 0:00:01\r\u001b[K     |██████████▏                     | 337kB 6.8MB/s eta 0:00:01\r\u001b[K     |██████████▌                     | 348kB 6.8MB/s eta 0:00:01\r\u001b[K     |██████████▉                     | 358kB 6.8MB/s eta 0:00:01\r\u001b[K     |███████████▏                    | 368kB 6.8MB/s eta 0:00:01\r\u001b[K     |███████████▍                    | 378kB 6.8MB/s eta 0:00:01\r\u001b[K     |███████████▊                    | 389kB 6.8MB/s eta 0:00:01\r\u001b[K     |████████████                    | 399kB 6.8MB/s eta 0:00:01\r\u001b[K     |████████████▍                   | 409kB 6.8MB/s eta 0:00:01\r\u001b[K     |████████████▋                   | 419kB 6.8MB/s eta 0:00:01\r\u001b[K     |█████████████                   | 430kB 6.8MB/s eta 0:00:01\r\u001b[K     |█████████████▎                  | 440kB 6.8MB/s eta 0:00:01\r\u001b[K     |█████████████▋                  | 450kB 6.8MB/s eta 0:00:01\r\u001b[K     |██████████████                  | 460kB 6.8MB/s eta 0:00:01\r\u001b[K     |██████████████▏                 | 471kB 6.8MB/s eta 0:00:01\r\u001b[K     |██████████████▌                 | 481kB 6.8MB/s eta 0:00:01\r\u001b[K     |██████████████▉                 | 491kB 6.8MB/s eta 0:00:01\r\u001b[K     |███████████████▏                | 501kB 6.8MB/s eta 0:00:01\r\u001b[K     |███████████████▍                | 512kB 6.8MB/s eta 0:00:01\r\u001b[K     |███████████████▊                | 522kB 6.8MB/s eta 0:00:01\r\u001b[K     |████████████████                | 532kB 6.8MB/s eta 0:00:01\r\u001b[K     |████████████████▍               | 542kB 6.8MB/s eta 0:00:01\r\u001b[K     |████████████████▊               | 552kB 6.8MB/s eta 0:00:01\r\u001b[K     |█████████████████               | 563kB 6.8MB/s eta 0:00:01\r\u001b[K     |█████████████████▎              | 573kB 6.8MB/s eta 0:00:01\r\u001b[K     |█████████████████▋              | 583kB 6.8MB/s eta 0:00:01\r\u001b[K     |██████████████████              | 593kB 6.8MB/s eta 0:00:01\r\u001b[K     |██████████████████▏             | 604kB 6.8MB/s eta 0:00:01\r\u001b[K     |██████████████████▌             | 614kB 6.8MB/s eta 0:00:01\r\u001b[K     |██████████████████▉             | 624kB 6.8MB/s eta 0:00:01\r\u001b[K     |███████████████████▏            | 634kB 6.8MB/s eta 0:00:01\r\u001b[K     |███████████████████▌            | 645kB 6.8MB/s eta 0:00:01\r\u001b[K     |███████████████████▊            | 655kB 6.8MB/s eta 0:00:01\r\u001b[K     |████████████████████            | 665kB 6.8MB/s eta 0:00:01\r\u001b[K     |████████████████████▍           | 675kB 6.8MB/s eta 0:00:01\r\u001b[K     |████████████████████▊           | 686kB 6.8MB/s eta 0:00:01\r\u001b[K     |█████████████████████           | 696kB 6.8MB/s eta 0:00:01\r\u001b[K     |█████████████████████▎          | 706kB 6.8MB/s eta 0:00:01\r\u001b[K     |█████████████████████▋          | 716kB 6.8MB/s eta 0:00:01\r\u001b[K     |██████████████████████          | 727kB 6.8MB/s eta 0:00:01\r\u001b[K     |██████████████████████▎         | 737kB 6.8MB/s eta 0:00:01\r\u001b[K     |██████████████████████▌         | 747kB 6.8MB/s eta 0:00:01\r\u001b[K     |██████████████████████▉         | 757kB 6.8MB/s eta 0:00:01\r\u001b[K     |███████████████████████▏        | 768kB 6.8MB/s eta 0:00:01\r\u001b[K     |███████████████████████▌        | 778kB 6.8MB/s eta 0:00:01\r\u001b[K     |███████████████████████▊        | 788kB 6.8MB/s eta 0:00:01\r\u001b[K     |████████████████████████        | 798kB 6.8MB/s eta 0:00:01\r\u001b[K     |████████████████████████▍       | 808kB 6.8MB/s eta 0:00:01\r\u001b[K     |████████████████████████▊       | 819kB 6.8MB/s eta 0:00:01\r\u001b[K     |█████████████████████████       | 829kB 6.8MB/s eta 0:00:01\r\u001b[K     |█████████████████████████▎      | 839kB 6.8MB/s eta 0:00:01\r\u001b[K     |█████████████████████████▋      | 849kB 6.8MB/s eta 0:00:01\r\u001b[K     |██████████████████████████      | 860kB 6.8MB/s eta 0:00:01\r\u001b[K     |██████████████████████████▎     | 870kB 6.8MB/s eta 0:00:01\r\u001b[K     |██████████████████████████▌     | 880kB 6.8MB/s eta 0:00:01\r\u001b[K     |██████████████████████████▉     | 890kB 6.8MB/s eta 0:00:01\r\u001b[K     |███████████████████████████▏    | 901kB 6.8MB/s eta 0:00:01\r\u001b[K     |███████████████████████████▌    | 911kB 6.8MB/s eta 0:00:01\r\u001b[K     |███████████████████████████▉    | 921kB 6.8MB/s eta 0:00:01\r\u001b[K     |████████████████████████████    | 931kB 6.8MB/s eta 0:00:01\r\u001b[K     |████████████████████████████▍   | 942kB 6.8MB/s eta 0:00:01\r\u001b[K     |████████████████████████████▊   | 952kB 6.8MB/s eta 0:00:01\r\u001b[K     |█████████████████████████████   | 962kB 6.8MB/s eta 0:00:01\r\u001b[K     |█████████████████████████████▎  | 972kB 6.8MB/s eta 0:00:01\r\u001b[K     |█████████████████████████████▋  | 983kB 6.8MB/s eta 0:00:01\r\u001b[K     |██████████████████████████████  | 993kB 6.8MB/s eta 0:00:01\r\u001b[K     |██████████████████████████████▎ | 1.0MB 6.8MB/s eta 0:00:01\r\u001b[K     |██████████████████████████████▋ | 1.0MB 6.8MB/s eta 0:00:01\r\u001b[K     |██████████████████████████████▉ | 1.0MB 6.8MB/s eta 0:00:01\r\u001b[K     |███████████████████████████████▏| 1.0MB 6.8MB/s eta 0:00:01\r\u001b[K     |███████████████████████████████▌| 1.0MB 6.8MB/s eta 0:00:01\r\u001b[K     |███████████████████████████████▉| 1.1MB 6.8MB/s eta 0:00:01\r\u001b[K     |████████████████████████████████| 1.1MB 6.8MB/s \n",
            "\u001b[?25hRequirement already satisfied: tqdm>=4.27 in /usr/local/lib/python3.6/dist-packages (from transformers) (4.41.1)\n",
            "Requirement already satisfied: filelock in /usr/local/lib/python3.6/dist-packages (from transformers) (3.0.12)\n",
            "Collecting sentencepiece!=0.1.92\n",
            "\u001b[?25l  Downloading https://files.pythonhosted.org/packages/d4/a4/d0a884c4300004a78cca907a6ff9a5e9fe4f090f5d95ab341c53d28cbc58/sentencepiece-0.1.91-cp36-cp36m-manylinux1_x86_64.whl (1.1MB)\n",
            "\u001b[K     |████████████████████████████████| 1.1MB 22.5MB/s \n",
            "\u001b[?25hRequirement already satisfied: requests in /usr/local/lib/python3.6/dist-packages (from transformers) (2.23.0)\n",
            "Requirement already satisfied: regex!=2019.12.17 in /usr/local/lib/python3.6/dist-packages (from transformers) (2019.12.20)\n",
            "Collecting tokenizers==0.8.1.rc2\n",
            "\u001b[?25l  Downloading https://files.pythonhosted.org/packages/80/83/8b9fccb9e48eeb575ee19179e2bdde0ee9a1904f97de5f02d19016b8804f/tokenizers-0.8.1rc2-cp36-cp36m-manylinux1_x86_64.whl (3.0MB)\n",
            "\u001b[K     |████████████████████████████████| 3.0MB 36.3MB/s \n",
            "\u001b[?25hRequirement already satisfied: numpy in /usr/local/lib/python3.6/dist-packages (from transformers) (1.18.5)\n",
            "Collecting sacremoses\n",
            "\u001b[?25l  Downloading https://files.pythonhosted.org/packages/7d/34/09d19aff26edcc8eb2a01bed8e98f13a1537005d31e95233fd48216eed10/sacremoses-0.0.43.tar.gz (883kB)\n",
            "\u001b[K     |████████████████████████████████| 890kB 40.1MB/s \n",
            "\u001b[?25hRequirement already satisfied: packaging in /usr/local/lib/python3.6/dist-packages (from transformers) (20.4)\n",
            "Requirement already satisfied: dataclasses; python_version < \"3.7\" in /usr/local/lib/python3.6/dist-packages (from transformers) (0.7)\n",
            "Requirement already satisfied: urllib3!=1.25.0,!=1.25.1,<1.26,>=1.21.1 in /usr/local/lib/python3.6/dist-packages (from requests->transformers) (1.24.3)\n",
            "Requirement already satisfied: idna<3,>=2.5 in /usr/local/lib/python3.6/dist-packages (from requests->transformers) (2.10)\n",
            "Requirement already satisfied: certifi>=2017.4.17 in /usr/local/lib/python3.6/dist-packages (from requests->transformers) (2020.6.20)\n",
            "Requirement already satisfied: chardet<4,>=3.0.2 in /usr/local/lib/python3.6/dist-packages (from requests->transformers) (3.0.4)\n",
            "Requirement already satisfied: six in /usr/local/lib/python3.6/dist-packages (from sacremoses->transformers) (1.15.0)\n",
            "Requirement already satisfied: click in /usr/local/lib/python3.6/dist-packages (from sacremoses->transformers) (7.1.2)\n",
            "Requirement already satisfied: joblib in /usr/local/lib/python3.6/dist-packages (from sacremoses->transformers) (0.16.0)\n",
            "Requirement already satisfied: pyparsing>=2.0.2 in /usr/local/lib/python3.6/dist-packages (from packaging->transformers) (2.4.7)\n",
            "Building wheels for collected packages: sacremoses\n",
            "  Building wheel for sacremoses (setup.py) ... \u001b[?25l\u001b[?25hdone\n",
            "  Created wheel for sacremoses: filename=sacremoses-0.0.43-cp36-none-any.whl size=893257 sha256=7fd52cc06a077e71f24b8d63fc769d8b943abe46aaa4ee1e6a2c1a86c9b847fe\n",
            "  Stored in directory: /root/.cache/pip/wheels/29/3c/fd/7ce5c3f0666dab31a50123635e6fb5e19ceb42ce38d4e58f45\n",
            "Successfully built sacremoses\n",
            "Installing collected packages: sentencepiece, tokenizers, sacremoses, transformers\n",
            "Successfully installed sacremoses-0.0.43 sentencepiece-0.1.91 tokenizers-0.8.1rc2 transformers-3.3.1\n"
          ],
          "name": "stdout"
        }
      ]
    },
    {
      "cell_type": "code",
      "metadata": {
        "id": "D12fYdYW8Jyg",
        "outputId": "b87c296d-895d-452d-892c-4505cecf8f5a",
        "colab": {
          "base_uri": "https://localhost:8080/",
          "height": 33
        }
      },
      "source": [
        "gpt2.mount_gdrive()"
      ],
      "execution_count": 3,
      "outputs": [
        {
          "output_type": "stream",
          "text": [
            "Mounted at /content/drive\n"
          ],
          "name": "stdout"
        }
      ]
    },
    {
      "cell_type": "markdown",
      "metadata": {
        "id": "V1RB1FKI8id9"
      },
      "source": [
        "##GPT2"
      ]
    },
    {
      "cell_type": "code",
      "metadata": {
        "id": "s-i0LyL28ZSR",
        "outputId": "12c67bfb-b107-43f4-cbff-24c6965be28f",
        "colab": {
          "base_uri": "https://localhost:8080/",
          "height": 163
        }
      },
      "source": [
        "gpt2.download_gpt2(model_name=\"355M\")\n",
        "gpt2.copy_checkpoint_from_gdrive(run_name='run1_topical_token')\n",
        "sess = gpt2.start_tf_sess()\n",
        "gpt2.load_gpt2(sess, run_name='run1_topical_token')"
      ],
      "execution_count": 4,
      "outputs": [
        {
          "output_type": "stream",
          "text": [
            "Fetching checkpoint: 1.05Mit [00:00, 388Mit/s]                                                      \n",
            "Fetching encoder.json: 1.05Mit [00:00, 93.5Mit/s]                                                   \n",
            "Fetching hparams.json: 1.05Mit [00:00, 603Mit/s]                                                    \n",
            "Fetching model.ckpt.data-00000-of-00001: 1.42Git [00:07, 182Mit/s]                                  \n",
            "Fetching model.ckpt.index: 1.05Mit [00:00, 258Mit/s]                                                \n",
            "Fetching model.ckpt.meta: 1.05Mit [00:00, 83.9Mit/s]                                                \n",
            "Fetching vocab.bpe: 1.05Mit [00:00, 149Mit/s]                                                       \n"
          ],
          "name": "stderr"
        },
        {
          "output_type": "stream",
          "text": [
            "Loading checkpoint checkpoint/run1_topical_token/model-2000\n",
            "INFO:tensorflow:Restoring parameters from checkpoint/run1_topical_token/model-2000\n"
          ],
          "name": "stdout"
        }
      ]
    },
    {
      "cell_type": "code",
      "metadata": {
        "id": "TMmh_BiD8ugk"
      },
      "source": [
        "def generate(input):\n",
        "  print(\"GPT2 generating for :\",input)\n",
        "  generated_text = gpt2.generate(sess,\n",
        "              length=100,\n",
        "              run_name='run1_topical_token',\n",
        "              return_as_list=True,\n",
        "              temperature=0.7,\n",
        "              prefix=input,\n",
        "              nsamples=15,\n",
        "              truncate = '.',\n",
        "              batch_size=5,\n",
        "              top_k = 5,\n",
        "              include_prefix = False)\n",
        "  \n",
        "  def clean(input_st, sub):\n",
        "    return input_st.replace(sub, '').lstrip()\n",
        "\n",
        "  cleaned = []\n",
        "  for text in generated_text:\n",
        "    cleaned.append(re.sub(r\"^\\W+\", \"\",clean(text,'<|endoftext|>')))\n",
        "\n",
        "  return cleaned\n"
      ],
      "execution_count": 35,
      "outputs": []
    },
    {
      "cell_type": "markdown",
      "metadata": {
        "id": "r9P9hyIs96xY"
      },
      "source": [
        "# Data"
      ]
    },
    {
      "cell_type": "code",
      "metadata": {
        "id": "aTv386cD98Sp"
      },
      "source": [
        "import json\n",
        "def load_json(filename):\n",
        "  with open(filename) as f:\n",
        "    res = json.load(f)\n",
        "    return res"
      ],
      "execution_count": 8,
      "outputs": []
    },
    {
      "cell_type": "code",
      "metadata": {
        "id": "71qWgOFD-wk-"
      },
      "source": [
        "pred_file = \"/content/drive/My Drive/Thesis project/Thesis project/datasets/post BERT/predictions.json\"\n",
        "ques_file = \"/content/drive/My Drive/Thesis project/Thesis project/datasets/post BERT/questions.csv\""
      ],
      "execution_count": 16,
      "outputs": []
    },
    {
      "cell_type": "code",
      "metadata": {
        "id": "9-Kh5tOV_9K2"
      },
      "source": [
        "df = pd.read_csv(ques_file)\n",
        "questions = list(df['Questions'])\n",
        "predictions = load_json(pred_file)"
      ],
      "execution_count": 19,
      "outputs": []
    },
    {
      "cell_type": "markdown",
      "metadata": {
        "id": "iE8twCM6AyJd"
      },
      "source": [
        "#Generation"
      ]
    },
    {
      "cell_type": "markdown",
      "metadata": {
        "id": "RuA19UeZJKMn"
      },
      "source": [
        "## BERT NSP"
      ]
    },
    {
      "cell_type": "code",
      "metadata": {
        "id": "YbcvLRRAJMx3",
        "outputId": "916072ad-65c8-4ac6-80e2-ee0fc1d01103",
        "colab": {
          "base_uri": "https://localhost:8080/",
          "height": 230,
          "referenced_widgets": [
            "26a8a931fb2c4dc4abfcc1a3a1a992fe",
            "3e729e40c1c0489e9099a38f8fa6df15",
            "120d0fd4b8bf411b91220f01060ea042",
            "6714f1f876304fd6b9a2f0f93d9bf293",
            "3cf81435051d4bda875505b206b518b8",
            "210bbe69de1f4849b0985e4c742c1831",
            "0b36ea3acd6e427eac2d80acb96cd08d",
            "f6276aa962e04f66b31d7467edd43516",
            "8df369fa69cc4b9d99ed1929030b2329",
            "79102af3682143889fe59b036e12584d",
            "7afed0b37f934d1e9a77e5dbaf9bc493",
            "9c98e07946314a4eb88ef2f38bde8d9f",
            "aeac7398c7bc46e6ba9b4e44b5cbc682",
            "03d82caf8dbb4cb597eb668238f34767",
            "bd56f4253a5b4c77ae147ea843989558",
            "ea28e13777284432a44261a0e56fea2e",
            "e4ded353e5aa4a27a2df84f4b8e34a0f",
            "fe6e05d227e546d790a90ad7dba67d2b",
            "d8e7db4a279c4a0581a9c28e044efc03",
            "e88a68ebd2de42e18c8ca867398c1113",
            "fcb6376fe57949c79dbfe2597adbeb8b",
            "1f1cacd89dd14bd78db6670715b5938f",
            "eb0f9c3bca9549009ffad92373deab15",
            "6eee8d8b99e840cdb123fa5f05f04e14"
          ]
        }
      },
      "source": [
        "from torch.nn.functional import softmax\n",
        "from transformers import BertForNextSentencePrediction, BertTokenizer\n",
        "model = BertForNextSentencePrediction.from_pretrained('bert-base-cased')\n",
        "tokenizer = BertTokenizer.from_pretrained('bert-base-cased')"
      ],
      "execution_count": 26,
      "outputs": [
        {
          "output_type": "display_data",
          "data": {
            "application/vnd.jupyter.widget-view+json": {
              "model_id": "26a8a931fb2c4dc4abfcc1a3a1a992fe",
              "version_minor": 0,
              "version_major": 2
            },
            "text/plain": [
              "HBox(children=(FloatProgress(value=0.0, description='Downloading', max=433.0, style=ProgressStyle(description_…"
            ]
          },
          "metadata": {
            "tags": []
          }
        },
        {
          "output_type": "stream",
          "text": [
            "\n"
          ],
          "name": "stdout"
        },
        {
          "output_type": "display_data",
          "data": {
            "application/vnd.jupyter.widget-view+json": {
              "model_id": "8df369fa69cc4b9d99ed1929030b2329",
              "version_minor": 0,
              "version_major": 2
            },
            "text/plain": [
              "HBox(children=(FloatProgress(value=0.0, description='Downloading', max=435779157.0, style=ProgressStyle(descri…"
            ]
          },
          "metadata": {
            "tags": []
          }
        },
        {
          "output_type": "stream",
          "text": [
            "\n"
          ],
          "name": "stdout"
        },
        {
          "output_type": "stream",
          "text": [
            "Some weights of the model checkpoint at bert-base-cased were not used when initializing BertForNextSentencePrediction: ['cls.predictions.bias', 'cls.predictions.transform.dense.weight', 'cls.predictions.transform.dense.bias', 'cls.predictions.decoder.weight', 'cls.predictions.transform.LayerNorm.weight', 'cls.predictions.transform.LayerNorm.bias']\n",
            "- This IS expected if you are initializing BertForNextSentencePrediction from the checkpoint of a model trained on another task or with another architecture (e.g. initializing a BertForSequenceClassification model from a BertForPretraining model).\n",
            "- This IS NOT expected if you are initializing BertForNextSentencePrediction from the checkpoint of a model that you expect to be exactly identical (initializing a BertForSequenceClassification model from a BertForSequenceClassification model).\n"
          ],
          "name": "stderr"
        },
        {
          "output_type": "display_data",
          "data": {
            "application/vnd.jupyter.widget-view+json": {
              "model_id": "e4ded353e5aa4a27a2df84f4b8e34a0f",
              "version_minor": 0,
              "version_major": 2
            },
            "text/plain": [
              "HBox(children=(FloatProgress(value=0.0, description='Downloading', max=213450.0, style=ProgressStyle(descripti…"
            ]
          },
          "metadata": {
            "tags": []
          }
        },
        {
          "output_type": "stream",
          "text": [
            "\n"
          ],
          "name": "stdout"
        }
      ]
    },
    {
      "cell_type": "code",
      "metadata": {
        "id": "vejZ8IQTJWwj"
      },
      "source": [
        "def top_result(seq_A,seq_B):\n",
        "\n",
        "  response = seq_B[0]\n",
        "  max_prob = -1\n",
        "  for seq in seq_B:\n",
        "    encoded = tokenizer.encode_plus(seq_A, text_pair=seq, return_tensors='pt')\n",
        "    seq_relationship_logits = model(**encoded)[0]\n",
        "    probs = softmax(seq_relationship_logits, dim=1)\n",
        "    if probs[0][0] > max_prob:\n",
        "      max_prob = probs[0][0]\n",
        "      response = seq\n",
        "  return response"
      ],
      "execution_count": 27,
      "outputs": []
    },
    {
      "cell_type": "code",
      "metadata": {
        "id": "coLqOwvKKq22"
      },
      "source": [
        "def get_response(input):\n",
        "  temp = generate(input)\n",
        "  response = top_result(input,temp)\n",
        "  return response"
      ],
      "execution_count": 34,
      "outputs": []
    },
    {
      "cell_type": "code",
      "metadata": {
        "id": "UAYjVVNtB1mL"
      },
      "source": [
        "def answers_json(questions,predictions):\n",
        "  responses = {}\n",
        "  prefix = \"This is beyond my knowledge but here's what I think.\"\n",
        "  for idx in range(0,len(questions)):\n",
        "    print(questions[idx])\n",
        "    if(str(idx) not in predictions or predictions[str(idx)] == \"\"):\n",
        "      res = get_response(questions[idx])\n",
        "      res = prefix + res\n",
        "    else:\n",
        "      res = predictions[str(idx)]\n",
        "    responses[idx] = res\n",
        "  return responses"
      ],
      "execution_count": 45,
      "outputs": []
    },
    {
      "cell_type": "code",
      "metadata": {
        "id": "OzfU5rxrL31W",
        "outputId": "01d25e1b-1a28-4b48-949f-341125a9d5d8",
        "colab": {
          "base_uri": "https://localhost:8080/",
          "height": 180
        }
      },
      "source": [
        "responses = answers_json(questions,predictions)"
      ],
      "execution_count": null,
      "outputs": [
        {
          "output_type": "stream",
          "text": [
            "What is your name?\n",
            "GPT2 generating for : What is your name?\n",
            "What is SLV?\n",
            "When is your birthday?\n",
            "GPT2 generating for : When is your birthday?\n",
            "Who is Narayan?\n",
            "GPT2 generating for : Who is Narayan?\n",
            "Who is your sister?\n",
            "where are you from?\n",
            "GPT2 generating for : where are you from?\n"
          ],
          "name": "stdout"
        }
      ]
    },
    {
      "cell_type": "code",
      "metadata": {
        "id": "7aLzrYryMLXu",
        "outputId": "07dc729c-4c82-4d76-f180-0f41b51bc1ef",
        "colab": {
          "base_uri": "https://localhost:8080/",
          "height": 362
        }
      },
      "source": [
        "responses"
      ],
      "execution_count": 43,
      "outputs": [
        {
          "output_type": "execute_result",
          "data": {
            "text/plain": [
              "{0: \"I  was expecting someone else to call meThis is beyond my knowledge but here's what I think.\",\n",
              " 1: 'I therefore take responsibility for the SLV- failure',\n",
              " 2: \"When is the next day?The committee was unanimous in its opinion that the development of the Prithvi project  was premature and counter-productiveThis is beyond my knowledge but here's what I think.\",\n",
              " 3: \"What makes a farmer?Who will succeed Narayan?I wanted to know these questionsThis is beyond my knowledge but here's what I think.\",\n",
              " 4: 'Zohara, prepared special sweets for me.At that time, my sister, Zohara',\n",
              " 5: \"was one of my favourite questionsThis is beyond my knowledge but here's what I think.\",\n",
              " 6: 'Washington',\n",
              " 7: 'Sriharikota (SHAR)',\n",
              " 8: 'Prithvi had been designed as an inertially guided missile',\n",
              " 9: 'an indigenous Air-to-Air missile',\n",
              " 10: 'I had three close friends in my childhood',\n",
              " 11: \"Did you have to choose one or the other?I was not sure which school I should  go to to hone my craftThis is beyond my knowledge but here's what I think.\",\n",
              " 12: \"Was it because of its subject matter or because of its  outcome?I have always had a great affection for scienceThis is beyond my knowledge but here's what I think.\",\n",
              " 13: 'rocket integration and safety',\n",
              " 14: 'probing the near-earth environment',\n",
              " 15: 'I have always been a religious person in the sense that I maintain a working partnership with God.',\n",
              " 16: \"What makes a good SAM?And what  makes a good first-stage?Well, there is the aerodynamic model which explains the  basic physics of rocket propulsion, followed by a series of  aerodynamic models which describe the structure and  operation of the vehicleThis is beyond my knowledge but here's what I think.\",\n",
              " 17: 'Prime Minister Indira Gandhi was a person with a tremendous sense of pride',\n",
              " 18: 'Anna University, Madras',\n",
              " 19: 'Tactical Core Vehicle'}"
            ]
          },
          "metadata": {
            "tags": []
          },
          "execution_count": 43
        }
      ]
    },
    {
      "cell_type": "code",
      "metadata": {
        "id": "TcOOydCJOEC3"
      },
      "source": [
        ""
      ],
      "execution_count": null,
      "outputs": []
    }
  ]
}