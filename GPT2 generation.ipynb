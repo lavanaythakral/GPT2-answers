{
  "nbformat": 4,
  "nbformat_minor": 0,
  "metadata": {
    "colab": {
      "name": "GPT2 answers.ipynb",
      "provenance": [],
      "toc_visible": true,
      "include_colab_link": true
    },
    "kernelspec": {
      "name": "python3",
      "display_name": "Python 3"
    },
    "accelerator": "GPU",
    "widgets": {
      "application/vnd.jupyter.widget-state+json": {
        "222a025cb93748bb8a47bd3e6b11c379": {
          "model_module": "@jupyter-widgets/controls",
          "model_name": "HBoxModel",
          "state": {
            "_view_name": "HBoxView",
            "_dom_classes": [],
            "_model_name": "HBoxModel",
            "_view_module": "@jupyter-widgets/controls",
            "_model_module_version": "1.5.0",
            "_view_count": null,
            "_view_module_version": "1.5.0",
            "box_style": "",
            "layout": "IPY_MODEL_ed521cf6fd2346659f6800777d76e9eb",
            "_model_module": "@jupyter-widgets/controls",
            "children": [
              "IPY_MODEL_d76b5663a57f4f4badc86948090793c0",
              "IPY_MODEL_70c22d5681fe4d6eb80b330998496a51"
            ]
          }
        },
        "ed521cf6fd2346659f6800777d76e9eb": {
          "model_module": "@jupyter-widgets/base",
          "model_name": "LayoutModel",
          "state": {
            "_view_name": "LayoutView",
            "grid_template_rows": null,
            "right": null,
            "justify_content": null,
            "_view_module": "@jupyter-widgets/base",
            "overflow": null,
            "_model_module_version": "1.2.0",
            "_view_count": null,
            "flex_flow": null,
            "width": null,
            "min_width": null,
            "border": null,
            "align_items": null,
            "bottom": null,
            "_model_module": "@jupyter-widgets/base",
            "top": null,
            "grid_column": null,
            "overflow_y": null,
            "overflow_x": null,
            "grid_auto_flow": null,
            "grid_area": null,
            "grid_template_columns": null,
            "flex": null,
            "_model_name": "LayoutModel",
            "justify_items": null,
            "grid_row": null,
            "max_height": null,
            "align_content": null,
            "visibility": null,
            "align_self": null,
            "height": null,
            "min_height": null,
            "padding": null,
            "grid_auto_rows": null,
            "grid_gap": null,
            "max_width": null,
            "order": null,
            "_view_module_version": "1.2.0",
            "grid_template_areas": null,
            "object_position": null,
            "object_fit": null,
            "grid_auto_columns": null,
            "margin": null,
            "display": null,
            "left": null
          }
        },
        "d76b5663a57f4f4badc86948090793c0": {
          "model_module": "@jupyter-widgets/controls",
          "model_name": "FloatProgressModel",
          "state": {
            "_view_name": "ProgressView",
            "style": "IPY_MODEL_b2f9863966c44d97af1fdf7dfb3165d0",
            "_dom_classes": [],
            "description": "Downloading: 100%",
            "_model_name": "FloatProgressModel",
            "bar_style": "success",
            "max": 433,
            "_view_module": "@jupyter-widgets/controls",
            "_model_module_version": "1.5.0",
            "value": 433,
            "_view_count": null,
            "_view_module_version": "1.5.0",
            "orientation": "horizontal",
            "min": 0,
            "description_tooltip": null,
            "_model_module": "@jupyter-widgets/controls",
            "layout": "IPY_MODEL_c6bf0f74be554d02b96e5567aec862de"
          }
        },
        "70c22d5681fe4d6eb80b330998496a51": {
          "model_module": "@jupyter-widgets/controls",
          "model_name": "HTMLModel",
          "state": {
            "_view_name": "HTMLView",
            "style": "IPY_MODEL_6ac0e4deb7464df4ac46b878cea312fd",
            "_dom_classes": [],
            "description": "",
            "_model_name": "HTMLModel",
            "placeholder": "​",
            "_view_module": "@jupyter-widgets/controls",
            "_model_module_version": "1.5.0",
            "value": " 433/433 [00:00&lt;00:00, 2.91kB/s]",
            "_view_count": null,
            "_view_module_version": "1.5.0",
            "description_tooltip": null,
            "_model_module": "@jupyter-widgets/controls",
            "layout": "IPY_MODEL_f8e5b1a7b8ee4b38b027d2b014188984"
          }
        },
        "b2f9863966c44d97af1fdf7dfb3165d0": {
          "model_module": "@jupyter-widgets/controls",
          "model_name": "ProgressStyleModel",
          "state": {
            "_view_name": "StyleView",
            "_model_name": "ProgressStyleModel",
            "description_width": "initial",
            "_view_module": "@jupyter-widgets/base",
            "_model_module_version": "1.5.0",
            "_view_count": null,
            "_view_module_version": "1.2.0",
            "bar_color": null,
            "_model_module": "@jupyter-widgets/controls"
          }
        },
        "c6bf0f74be554d02b96e5567aec862de": {
          "model_module": "@jupyter-widgets/base",
          "model_name": "LayoutModel",
          "state": {
            "_view_name": "LayoutView",
            "grid_template_rows": null,
            "right": null,
            "justify_content": null,
            "_view_module": "@jupyter-widgets/base",
            "overflow": null,
            "_model_module_version": "1.2.0",
            "_view_count": null,
            "flex_flow": null,
            "width": null,
            "min_width": null,
            "border": null,
            "align_items": null,
            "bottom": null,
            "_model_module": "@jupyter-widgets/base",
            "top": null,
            "grid_column": null,
            "overflow_y": null,
            "overflow_x": null,
            "grid_auto_flow": null,
            "grid_area": null,
            "grid_template_columns": null,
            "flex": null,
            "_model_name": "LayoutModel",
            "justify_items": null,
            "grid_row": null,
            "max_height": null,
            "align_content": null,
            "visibility": null,
            "align_self": null,
            "height": null,
            "min_height": null,
            "padding": null,
            "grid_auto_rows": null,
            "grid_gap": null,
            "max_width": null,
            "order": null,
            "_view_module_version": "1.2.0",
            "grid_template_areas": null,
            "object_position": null,
            "object_fit": null,
            "grid_auto_columns": null,
            "margin": null,
            "display": null,
            "left": null
          }
        },
        "6ac0e4deb7464df4ac46b878cea312fd": {
          "model_module": "@jupyter-widgets/controls",
          "model_name": "DescriptionStyleModel",
          "state": {
            "_view_name": "StyleView",
            "_model_name": "DescriptionStyleModel",
            "description_width": "",
            "_view_module": "@jupyter-widgets/base",
            "_model_module_version": "1.5.0",
            "_view_count": null,
            "_view_module_version": "1.2.0",
            "_model_module": "@jupyter-widgets/controls"
          }
        },
        "f8e5b1a7b8ee4b38b027d2b014188984": {
          "model_module": "@jupyter-widgets/base",
          "model_name": "LayoutModel",
          "state": {
            "_view_name": "LayoutView",
            "grid_template_rows": null,
            "right": null,
            "justify_content": null,
            "_view_module": "@jupyter-widgets/base",
            "overflow": null,
            "_model_module_version": "1.2.0",
            "_view_count": null,
            "flex_flow": null,
            "width": null,
            "min_width": null,
            "border": null,
            "align_items": null,
            "bottom": null,
            "_model_module": "@jupyter-widgets/base",
            "top": null,
            "grid_column": null,
            "overflow_y": null,
            "overflow_x": null,
            "grid_auto_flow": null,
            "grid_area": null,
            "grid_template_columns": null,
            "flex": null,
            "_model_name": "LayoutModel",
            "justify_items": null,
            "grid_row": null,
            "max_height": null,
            "align_content": null,
            "visibility": null,
            "align_self": null,
            "height": null,
            "min_height": null,
            "padding": null,
            "grid_auto_rows": null,
            "grid_gap": null,
            "max_width": null,
            "order": null,
            "_view_module_version": "1.2.0",
            "grid_template_areas": null,
            "object_position": null,
            "object_fit": null,
            "grid_auto_columns": null,
            "margin": null,
            "display": null,
            "left": null
          }
        },
        "576fcdf967c9470ea5fb3a46102ac298": {
          "model_module": "@jupyter-widgets/controls",
          "model_name": "HBoxModel",
          "state": {
            "_view_name": "HBoxView",
            "_dom_classes": [],
            "_model_name": "HBoxModel",
            "_view_module": "@jupyter-widgets/controls",
            "_model_module_version": "1.5.0",
            "_view_count": null,
            "_view_module_version": "1.5.0",
            "box_style": "",
            "layout": "IPY_MODEL_fe1295645aac4749b23afb456ac7880d",
            "_model_module": "@jupyter-widgets/controls",
            "children": [
              "IPY_MODEL_a4e1ac5713bd4f449cf8705b367633cd",
              "IPY_MODEL_460dcaa669d54e78a0232602bb8a0005"
            ]
          }
        },
        "fe1295645aac4749b23afb456ac7880d": {
          "model_module": "@jupyter-widgets/base",
          "model_name": "LayoutModel",
          "state": {
            "_view_name": "LayoutView",
            "grid_template_rows": null,
            "right": null,
            "justify_content": null,
            "_view_module": "@jupyter-widgets/base",
            "overflow": null,
            "_model_module_version": "1.2.0",
            "_view_count": null,
            "flex_flow": null,
            "width": null,
            "min_width": null,
            "border": null,
            "align_items": null,
            "bottom": null,
            "_model_module": "@jupyter-widgets/base",
            "top": null,
            "grid_column": null,
            "overflow_y": null,
            "overflow_x": null,
            "grid_auto_flow": null,
            "grid_area": null,
            "grid_template_columns": null,
            "flex": null,
            "_model_name": "LayoutModel",
            "justify_items": null,
            "grid_row": null,
            "max_height": null,
            "align_content": null,
            "visibility": null,
            "align_self": null,
            "height": null,
            "min_height": null,
            "padding": null,
            "grid_auto_rows": null,
            "grid_gap": null,
            "max_width": null,
            "order": null,
            "_view_module_version": "1.2.0",
            "grid_template_areas": null,
            "object_position": null,
            "object_fit": null,
            "grid_auto_columns": null,
            "margin": null,
            "display": null,
            "left": null
          }
        },
        "a4e1ac5713bd4f449cf8705b367633cd": {
          "model_module": "@jupyter-widgets/controls",
          "model_name": "FloatProgressModel",
          "state": {
            "_view_name": "ProgressView",
            "style": "IPY_MODEL_e37743755bba49b992fe35527cf3c55a",
            "_dom_classes": [],
            "description": "Downloading: 100%",
            "_model_name": "FloatProgressModel",
            "bar_style": "success",
            "max": 435779157,
            "_view_module": "@jupyter-widgets/controls",
            "_model_module_version": "1.5.0",
            "value": 435779157,
            "_view_count": null,
            "_view_module_version": "1.5.0",
            "orientation": "horizontal",
            "min": 0,
            "description_tooltip": null,
            "_model_module": "@jupyter-widgets/controls",
            "layout": "IPY_MODEL_015d8fd9de2f4d40936170ee3e489136"
          }
        },
        "460dcaa669d54e78a0232602bb8a0005": {
          "model_module": "@jupyter-widgets/controls",
          "model_name": "HTMLModel",
          "state": {
            "_view_name": "HTMLView",
            "style": "IPY_MODEL_c4291ea6c22e42f7a4cf4edfebe8091b",
            "_dom_classes": [],
            "description": "",
            "_model_name": "HTMLModel",
            "placeholder": "​",
            "_view_module": "@jupyter-widgets/controls",
            "_model_module_version": "1.5.0",
            "value": " 436M/436M [00:09&lt;00:00, 48.0MB/s]",
            "_view_count": null,
            "_view_module_version": "1.5.0",
            "description_tooltip": null,
            "_model_module": "@jupyter-widgets/controls",
            "layout": "IPY_MODEL_e6d7753f492c464c940169c97e0733e6"
          }
        },
        "e37743755bba49b992fe35527cf3c55a": {
          "model_module": "@jupyter-widgets/controls",
          "model_name": "ProgressStyleModel",
          "state": {
            "_view_name": "StyleView",
            "_model_name": "ProgressStyleModel",
            "description_width": "initial",
            "_view_module": "@jupyter-widgets/base",
            "_model_module_version": "1.5.0",
            "_view_count": null,
            "_view_module_version": "1.2.0",
            "bar_color": null,
            "_model_module": "@jupyter-widgets/controls"
          }
        },
        "015d8fd9de2f4d40936170ee3e489136": {
          "model_module": "@jupyter-widgets/base",
          "model_name": "LayoutModel",
          "state": {
            "_view_name": "LayoutView",
            "grid_template_rows": null,
            "right": null,
            "justify_content": null,
            "_view_module": "@jupyter-widgets/base",
            "overflow": null,
            "_model_module_version": "1.2.0",
            "_view_count": null,
            "flex_flow": null,
            "width": null,
            "min_width": null,
            "border": null,
            "align_items": null,
            "bottom": null,
            "_model_module": "@jupyter-widgets/base",
            "top": null,
            "grid_column": null,
            "overflow_y": null,
            "overflow_x": null,
            "grid_auto_flow": null,
            "grid_area": null,
            "grid_template_columns": null,
            "flex": null,
            "_model_name": "LayoutModel",
            "justify_items": null,
            "grid_row": null,
            "max_height": null,
            "align_content": null,
            "visibility": null,
            "align_self": null,
            "height": null,
            "min_height": null,
            "padding": null,
            "grid_auto_rows": null,
            "grid_gap": null,
            "max_width": null,
            "order": null,
            "_view_module_version": "1.2.0",
            "grid_template_areas": null,
            "object_position": null,
            "object_fit": null,
            "grid_auto_columns": null,
            "margin": null,
            "display": null,
            "left": null
          }
        },
        "c4291ea6c22e42f7a4cf4edfebe8091b": {
          "model_module": "@jupyter-widgets/controls",
          "model_name": "DescriptionStyleModel",
          "state": {
            "_view_name": "StyleView",
            "_model_name": "DescriptionStyleModel",
            "description_width": "",
            "_view_module": "@jupyter-widgets/base",
            "_model_module_version": "1.5.0",
            "_view_count": null,
            "_view_module_version": "1.2.0",
            "_model_module": "@jupyter-widgets/controls"
          }
        },
        "e6d7753f492c464c940169c97e0733e6": {
          "model_module": "@jupyter-widgets/base",
          "model_name": "LayoutModel",
          "state": {
            "_view_name": "LayoutView",
            "grid_template_rows": null,
            "right": null,
            "justify_content": null,
            "_view_module": "@jupyter-widgets/base",
            "overflow": null,
            "_model_module_version": "1.2.0",
            "_view_count": null,
            "flex_flow": null,
            "width": null,
            "min_width": null,
            "border": null,
            "align_items": null,
            "bottom": null,
            "_model_module": "@jupyter-widgets/base",
            "top": null,
            "grid_column": null,
            "overflow_y": null,
            "overflow_x": null,
            "grid_auto_flow": null,
            "grid_area": null,
            "grid_template_columns": null,
            "flex": null,
            "_model_name": "LayoutModel",
            "justify_items": null,
            "grid_row": null,
            "max_height": null,
            "align_content": null,
            "visibility": null,
            "align_self": null,
            "height": null,
            "min_height": null,
            "padding": null,
            "grid_auto_rows": null,
            "grid_gap": null,
            "max_width": null,
            "order": null,
            "_view_module_version": "1.2.0",
            "grid_template_areas": null,
            "object_position": null,
            "object_fit": null,
            "grid_auto_columns": null,
            "margin": null,
            "display": null,
            "left": null
          }
        },
        "611dec428456413ebde0954f0e7c9fce": {
          "model_module": "@jupyter-widgets/controls",
          "model_name": "HBoxModel",
          "state": {
            "_view_name": "HBoxView",
            "_dom_classes": [],
            "_model_name": "HBoxModel",
            "_view_module": "@jupyter-widgets/controls",
            "_model_module_version": "1.5.0",
            "_view_count": null,
            "_view_module_version": "1.5.0",
            "box_style": "",
            "layout": "IPY_MODEL_3be22946fbd648a1803b1701e01c8f83",
            "_model_module": "@jupyter-widgets/controls",
            "children": [
              "IPY_MODEL_a26d02d7072340d79afff6371632f1a5",
              "IPY_MODEL_ccea8e37ed584f209f23325fbe686bfa"
            ]
          }
        },
        "3be22946fbd648a1803b1701e01c8f83": {
          "model_module": "@jupyter-widgets/base",
          "model_name": "LayoutModel",
          "state": {
            "_view_name": "LayoutView",
            "grid_template_rows": null,
            "right": null,
            "justify_content": null,
            "_view_module": "@jupyter-widgets/base",
            "overflow": null,
            "_model_module_version": "1.2.0",
            "_view_count": null,
            "flex_flow": null,
            "width": null,
            "min_width": null,
            "border": null,
            "align_items": null,
            "bottom": null,
            "_model_module": "@jupyter-widgets/base",
            "top": null,
            "grid_column": null,
            "overflow_y": null,
            "overflow_x": null,
            "grid_auto_flow": null,
            "grid_area": null,
            "grid_template_columns": null,
            "flex": null,
            "_model_name": "LayoutModel",
            "justify_items": null,
            "grid_row": null,
            "max_height": null,
            "align_content": null,
            "visibility": null,
            "align_self": null,
            "height": null,
            "min_height": null,
            "padding": null,
            "grid_auto_rows": null,
            "grid_gap": null,
            "max_width": null,
            "order": null,
            "_view_module_version": "1.2.0",
            "grid_template_areas": null,
            "object_position": null,
            "object_fit": null,
            "grid_auto_columns": null,
            "margin": null,
            "display": null,
            "left": null
          }
        },
        "a26d02d7072340d79afff6371632f1a5": {
          "model_module": "@jupyter-widgets/controls",
          "model_name": "FloatProgressModel",
          "state": {
            "_view_name": "ProgressView",
            "style": "IPY_MODEL_ff9fe6e6e9fa475493efb5e357a469e4",
            "_dom_classes": [],
            "description": "Downloading: 100%",
            "_model_name": "FloatProgressModel",
            "bar_style": "success",
            "max": 213450,
            "_view_module": "@jupyter-widgets/controls",
            "_model_module_version": "1.5.0",
            "value": 213450,
            "_view_count": null,
            "_view_module_version": "1.5.0",
            "orientation": "horizontal",
            "min": 0,
            "description_tooltip": null,
            "_model_module": "@jupyter-widgets/controls",
            "layout": "IPY_MODEL_81505e57dbdc4abfa83f17ac5f2145ea"
          }
        },
        "ccea8e37ed584f209f23325fbe686bfa": {
          "model_module": "@jupyter-widgets/controls",
          "model_name": "HTMLModel",
          "state": {
            "_view_name": "HTMLView",
            "style": "IPY_MODEL_41777744f5114c80a282f648fd0892d5",
            "_dom_classes": [],
            "description": "",
            "_model_name": "HTMLModel",
            "placeholder": "​",
            "_view_module": "@jupyter-widgets/controls",
            "_model_module_version": "1.5.0",
            "value": " 213k/213k [00:00&lt;00:00, 689kB/s]",
            "_view_count": null,
            "_view_module_version": "1.5.0",
            "description_tooltip": null,
            "_model_module": "@jupyter-widgets/controls",
            "layout": "IPY_MODEL_c95b59361ce04724a21d37501ca892d1"
          }
        },
        "ff9fe6e6e9fa475493efb5e357a469e4": {
          "model_module": "@jupyter-widgets/controls",
          "model_name": "ProgressStyleModel",
          "state": {
            "_view_name": "StyleView",
            "_model_name": "ProgressStyleModel",
            "description_width": "initial",
            "_view_module": "@jupyter-widgets/base",
            "_model_module_version": "1.5.0",
            "_view_count": null,
            "_view_module_version": "1.2.0",
            "bar_color": null,
            "_model_module": "@jupyter-widgets/controls"
          }
        },
        "81505e57dbdc4abfa83f17ac5f2145ea": {
          "model_module": "@jupyter-widgets/base",
          "model_name": "LayoutModel",
          "state": {
            "_view_name": "LayoutView",
            "grid_template_rows": null,
            "right": null,
            "justify_content": null,
            "_view_module": "@jupyter-widgets/base",
            "overflow": null,
            "_model_module_version": "1.2.0",
            "_view_count": null,
            "flex_flow": null,
            "width": null,
            "min_width": null,
            "border": null,
            "align_items": null,
            "bottom": null,
            "_model_module": "@jupyter-widgets/base",
            "top": null,
            "grid_column": null,
            "overflow_y": null,
            "overflow_x": null,
            "grid_auto_flow": null,
            "grid_area": null,
            "grid_template_columns": null,
            "flex": null,
            "_model_name": "LayoutModel",
            "justify_items": null,
            "grid_row": null,
            "max_height": null,
            "align_content": null,
            "visibility": null,
            "align_self": null,
            "height": null,
            "min_height": null,
            "padding": null,
            "grid_auto_rows": null,
            "grid_gap": null,
            "max_width": null,
            "order": null,
            "_view_module_version": "1.2.0",
            "grid_template_areas": null,
            "object_position": null,
            "object_fit": null,
            "grid_auto_columns": null,
            "margin": null,
            "display": null,
            "left": null
          }
        },
        "41777744f5114c80a282f648fd0892d5": {
          "model_module": "@jupyter-widgets/controls",
          "model_name": "DescriptionStyleModel",
          "state": {
            "_view_name": "StyleView",
            "_model_name": "DescriptionStyleModel",
            "description_width": "",
            "_view_module": "@jupyter-widgets/base",
            "_model_module_version": "1.5.0",
            "_view_count": null,
            "_view_module_version": "1.2.0",
            "_model_module": "@jupyter-widgets/controls"
          }
        },
        "c95b59361ce04724a21d37501ca892d1": {
          "model_module": "@jupyter-widgets/base",
          "model_name": "LayoutModel",
          "state": {
            "_view_name": "LayoutView",
            "grid_template_rows": null,
            "right": null,
            "justify_content": null,
            "_view_module": "@jupyter-widgets/base",
            "overflow": null,
            "_model_module_version": "1.2.0",
            "_view_count": null,
            "flex_flow": null,
            "width": null,
            "min_width": null,
            "border": null,
            "align_items": null,
            "bottom": null,
            "_model_module": "@jupyter-widgets/base",
            "top": null,
            "grid_column": null,
            "overflow_y": null,
            "overflow_x": null,
            "grid_auto_flow": null,
            "grid_area": null,
            "grid_template_columns": null,
            "flex": null,
            "_model_name": "LayoutModel",
            "justify_items": null,
            "grid_row": null,
            "max_height": null,
            "align_content": null,
            "visibility": null,
            "align_self": null,
            "height": null,
            "min_height": null,
            "padding": null,
            "grid_auto_rows": null,
            "grid_gap": null,
            "max_width": null,
            "order": null,
            "_view_module_version": "1.2.0",
            "grid_template_areas": null,
            "object_position": null,
            "object_fit": null,
            "grid_auto_columns": null,
            "margin": null,
            "display": null,
            "left": null
          }
        }
      }
    }
  },
  "cells": [
    {
      "cell_type": "markdown",
      "metadata": {
        "id": "view-in-github",
        "colab_type": "text"
      },
      "source": [
        "<a href=\"https://colab.research.google.com/github/lavanaythakral/GPT2-answers/blob/master/GPT2%20generation.ipynb\" target=\"_parent\"><img src=\"https://colab.research.google.com/assets/colab-badge.svg\" alt=\"Open In Colab\"/></a>"
      ]
    },
    {
      "cell_type": "markdown",
      "metadata": {
        "id": "Q3iojS0o8SZG"
      },
      "source": [
        "#Prerequisites"
      ]
    },
    {
      "cell_type": "code",
      "metadata": {
        "id": "FfLLMxpx7udD",
        "outputId": "837746db-60c9-45ed-ec5e-80f9959c07fb",
        "colab": {
          "base_uri": "https://localhost:8080/",
          "height": 180
        }
      },
      "source": [
        "%tensorflow_version 1.x\n",
        "!pip install -q gpt-2-simple\n",
        "import gpt_2_simple as gpt2\n",
        "from datetime import datetime\n",
        "from google.colab import files\n",
        "import pandas as pd\n",
        "import re\n"
      ],
      "execution_count": 2,
      "outputs": [
        {
          "output_type": "stream",
          "text": [
            "TensorFlow 1.x selected.\n",
            "  Building wheel for gpt-2-simple (setup.py) ... \u001b[?25l\u001b[?25hdone\n",
            "WARNING:tensorflow:\n",
            "The TensorFlow contrib module will not be included in TensorFlow 2.0.\n",
            "For more information, please see:\n",
            "  * https://github.com/tensorflow/community/blob/master/rfcs/20180907-contrib-sunset.md\n",
            "  * https://github.com/tensorflow/addons\n",
            "  * https://github.com/tensorflow/io (for I/O related ops)\n",
            "If you depend on functionality not listed there, please file an issue.\n",
            "\n"
          ],
          "name": "stdout"
        }
      ]
    },
    {
      "cell_type": "code",
      "metadata": {
        "id": "_QET2pnc8FxH",
        "outputId": "1e7e5d7e-fafe-4b6e-8478-4f67764d464a",
        "colab": {
          "base_uri": "https://localhost:8080/",
          "height": 570
        }
      },
      "source": [
        "!pip install transformers"
      ],
      "execution_count": 3,
      "outputs": [
        {
          "output_type": "stream",
          "text": [
            "Collecting transformers\n",
            "\u001b[?25l  Downloading https://files.pythonhosted.org/packages/19/22/aff234f4a841f8999e68a7a94bdd4b60b4cebcfeca5d67d61cd08c9179de/transformers-3.3.1-py3-none-any.whl (1.1MB)\n",
            "\r\u001b[K     |▎                               | 10kB 21.0MB/s eta 0:00:01\r\u001b[K     |▋                               | 20kB 6.6MB/s eta 0:00:01\r\u001b[K     |█                               | 30kB 6.6MB/s eta 0:00:01\r\u001b[K     |█▎                              | 40kB 7.4MB/s eta 0:00:01\r\u001b[K     |█▌                              | 51kB 7.0MB/s eta 0:00:01\r\u001b[K     |█▉                              | 61kB 7.4MB/s eta 0:00:01\r\u001b[K     |██▏                             | 71kB 7.5MB/s eta 0:00:01\r\u001b[K     |██▌                             | 81kB 7.9MB/s eta 0:00:01\r\u001b[K     |██▉                             | 92kB 8.0MB/s eta 0:00:01\r\u001b[K     |███                             | 102kB 8.2MB/s eta 0:00:01\r\u001b[K     |███▍                            | 112kB 8.2MB/s eta 0:00:01\r\u001b[K     |███▊                            | 122kB 8.2MB/s eta 0:00:01\r\u001b[K     |████                            | 133kB 8.2MB/s eta 0:00:01\r\u001b[K     |████▎                           | 143kB 8.2MB/s eta 0:00:01\r\u001b[K     |████▋                           | 153kB 8.2MB/s eta 0:00:01\r\u001b[K     |█████                           | 163kB 8.2MB/s eta 0:00:01\r\u001b[K     |█████▎                          | 174kB 8.2MB/s eta 0:00:01\r\u001b[K     |█████▋                          | 184kB 8.2MB/s eta 0:00:01\r\u001b[K     |█████▉                          | 194kB 8.2MB/s eta 0:00:01\r\u001b[K     |██████▏                         | 204kB 8.2MB/s eta 0:00:01\r\u001b[K     |██████▌                         | 215kB 8.2MB/s eta 0:00:01\r\u001b[K     |██████▉                         | 225kB 8.2MB/s eta 0:00:01\r\u001b[K     |███████                         | 235kB 8.2MB/s eta 0:00:01\r\u001b[K     |███████▍                        | 245kB 8.2MB/s eta 0:00:01\r\u001b[K     |███████▊                        | 256kB 8.2MB/s eta 0:00:01\r\u001b[K     |████████                        | 266kB 8.2MB/s eta 0:00:01\r\u001b[K     |████████▍                       | 276kB 8.2MB/s eta 0:00:01\r\u001b[K     |████████▋                       | 286kB 8.2MB/s eta 0:00:01\r\u001b[K     |█████████                       | 296kB 8.2MB/s eta 0:00:01\r\u001b[K     |█████████▎                      | 307kB 8.2MB/s eta 0:00:01\r\u001b[K     |█████████▋                      | 317kB 8.2MB/s eta 0:00:01\r\u001b[K     |█████████▉                      | 327kB 8.2MB/s eta 0:00:01\r\u001b[K     |██████████▏                     | 337kB 8.2MB/s eta 0:00:01\r\u001b[K     |██████████▌                     | 348kB 8.2MB/s eta 0:00:01\r\u001b[K     |██████████▉                     | 358kB 8.2MB/s eta 0:00:01\r\u001b[K     |███████████▏                    | 368kB 8.2MB/s eta 0:00:01\r\u001b[K     |███████████▍                    | 378kB 8.2MB/s eta 0:00:01\r\u001b[K     |███████████▊                    | 389kB 8.2MB/s eta 0:00:01\r\u001b[K     |████████████                    | 399kB 8.2MB/s eta 0:00:01\r\u001b[K     |████████████▍                   | 409kB 8.2MB/s eta 0:00:01\r\u001b[K     |████████████▋                   | 419kB 8.2MB/s eta 0:00:01\r\u001b[K     |█████████████                   | 430kB 8.2MB/s eta 0:00:01\r\u001b[K     |█████████████▎                  | 440kB 8.2MB/s eta 0:00:01\r\u001b[K     |█████████████▋                  | 450kB 8.2MB/s eta 0:00:01\r\u001b[K     |██████████████                  | 460kB 8.2MB/s eta 0:00:01\r\u001b[K     |██████████████▏                 | 471kB 8.2MB/s eta 0:00:01\r\u001b[K     |██████████████▌                 | 481kB 8.2MB/s eta 0:00:01\r\u001b[K     |██████████████▉                 | 491kB 8.2MB/s eta 0:00:01\r\u001b[K     |███████████████▏                | 501kB 8.2MB/s eta 0:00:01\r\u001b[K     |███████████████▍                | 512kB 8.2MB/s eta 0:00:01\r\u001b[K     |███████████████▊                | 522kB 8.2MB/s eta 0:00:01\r\u001b[K     |████████████████                | 532kB 8.2MB/s eta 0:00:01\r\u001b[K     |████████████████▍               | 542kB 8.2MB/s eta 0:00:01\r\u001b[K     |████████████████▊               | 552kB 8.2MB/s eta 0:00:01\r\u001b[K     |█████████████████               | 563kB 8.2MB/s eta 0:00:01\r\u001b[K     |█████████████████▎              | 573kB 8.2MB/s eta 0:00:01\r\u001b[K     |█████████████████▋              | 583kB 8.2MB/s eta 0:00:01\r\u001b[K     |██████████████████              | 593kB 8.2MB/s eta 0:00:01\r\u001b[K     |██████████████████▏             | 604kB 8.2MB/s eta 0:00:01\r\u001b[K     |██████████████████▌             | 614kB 8.2MB/s eta 0:00:01\r\u001b[K     |██████████████████▉             | 624kB 8.2MB/s eta 0:00:01\r\u001b[K     |███████████████████▏            | 634kB 8.2MB/s eta 0:00:01\r\u001b[K     |███████████████████▌            | 645kB 8.2MB/s eta 0:00:01\r\u001b[K     |███████████████████▊            | 655kB 8.2MB/s eta 0:00:01\r\u001b[K     |████████████████████            | 665kB 8.2MB/s eta 0:00:01\r\u001b[K     |████████████████████▍           | 675kB 8.2MB/s eta 0:00:01\r\u001b[K     |████████████████████▊           | 686kB 8.2MB/s eta 0:00:01\r\u001b[K     |█████████████████████           | 696kB 8.2MB/s eta 0:00:01\r\u001b[K     |█████████████████████▎          | 706kB 8.2MB/s eta 0:00:01\r\u001b[K     |█████████████████████▋          | 716kB 8.2MB/s eta 0:00:01\r\u001b[K     |██████████████████████          | 727kB 8.2MB/s eta 0:00:01\r\u001b[K     |██████████████████████▎         | 737kB 8.2MB/s eta 0:00:01\r\u001b[K     |██████████████████████▌         | 747kB 8.2MB/s eta 0:00:01\r\u001b[K     |██████████████████████▉         | 757kB 8.2MB/s eta 0:00:01\r\u001b[K     |███████████████████████▏        | 768kB 8.2MB/s eta 0:00:01\r\u001b[K     |███████████████████████▌        | 778kB 8.2MB/s eta 0:00:01\r\u001b[K     |███████████████████████▊        | 788kB 8.2MB/s eta 0:00:01\r\u001b[K     |████████████████████████        | 798kB 8.2MB/s eta 0:00:01\r\u001b[K     |████████████████████████▍       | 808kB 8.2MB/s eta 0:00:01\r\u001b[K     |████████████████████████▊       | 819kB 8.2MB/s eta 0:00:01\r\u001b[K     |█████████████████████████       | 829kB 8.2MB/s eta 0:00:01\r\u001b[K     |█████████████████████████▎      | 839kB 8.2MB/s eta 0:00:01\r\u001b[K     |█████████████████████████▋      | 849kB 8.2MB/s eta 0:00:01\r\u001b[K     |██████████████████████████      | 860kB 8.2MB/s eta 0:00:01\r\u001b[K     |██████████████████████████▎     | 870kB 8.2MB/s eta 0:00:01\r\u001b[K     |██████████████████████████▌     | 880kB 8.2MB/s eta 0:00:01\r\u001b[K     |██████████████████████████▉     | 890kB 8.2MB/s eta 0:00:01\r\u001b[K     |███████████████████████████▏    | 901kB 8.2MB/s eta 0:00:01\r\u001b[K     |███████████████████████████▌    | 911kB 8.2MB/s eta 0:00:01\r\u001b[K     |███████████████████████████▉    | 921kB 8.2MB/s eta 0:00:01\r\u001b[K     |████████████████████████████    | 931kB 8.2MB/s eta 0:00:01\r\u001b[K     |████████████████████████████▍   | 942kB 8.2MB/s eta 0:00:01\r\u001b[K     |████████████████████████████▊   | 952kB 8.2MB/s eta 0:00:01\r\u001b[K     |█████████████████████████████   | 962kB 8.2MB/s eta 0:00:01\r\u001b[K     |█████████████████████████████▎  | 972kB 8.2MB/s eta 0:00:01\r\u001b[K     |█████████████████████████████▋  | 983kB 8.2MB/s eta 0:00:01\r\u001b[K     |██████████████████████████████  | 993kB 8.2MB/s eta 0:00:01\r\u001b[K     |██████████████████████████████▎ | 1.0MB 8.2MB/s eta 0:00:01\r\u001b[K     |██████████████████████████████▋ | 1.0MB 8.2MB/s eta 0:00:01\r\u001b[K     |██████████████████████████████▉ | 1.0MB 8.2MB/s eta 0:00:01\r\u001b[K     |███████████████████████████████▏| 1.0MB 8.2MB/s eta 0:00:01\r\u001b[K     |███████████████████████████████▌| 1.0MB 8.2MB/s eta 0:00:01\r\u001b[K     |███████████████████████████████▉| 1.1MB 8.2MB/s eta 0:00:01\r\u001b[K     |████████████████████████████████| 1.1MB 8.2MB/s \n",
            "\u001b[?25hRequirement already satisfied: requests in /usr/local/lib/python3.6/dist-packages (from transformers) (2.23.0)\n",
            "Requirement already satisfied: numpy in /usr/local/lib/python3.6/dist-packages (from transformers) (1.18.5)\n",
            "Requirement already satisfied: tqdm>=4.27 in /usr/local/lib/python3.6/dist-packages (from transformers) (4.41.1)\n",
            "Collecting tokenizers==0.8.1.rc2\n",
            "\u001b[?25l  Downloading https://files.pythonhosted.org/packages/80/83/8b9fccb9e48eeb575ee19179e2bdde0ee9a1904f97de5f02d19016b8804f/tokenizers-0.8.1rc2-cp36-cp36m-manylinux1_x86_64.whl (3.0MB)\n",
            "\u001b[K     |████████████████████████████████| 3.0MB 41.9MB/s \n",
            "\u001b[?25hCollecting sacremoses\n",
            "\u001b[?25l  Downloading https://files.pythonhosted.org/packages/7d/34/09d19aff26edcc8eb2a01bed8e98f13a1537005d31e95233fd48216eed10/sacremoses-0.0.43.tar.gz (883kB)\n",
            "\u001b[K     |████████████████████████████████| 890kB 51.4MB/s \n",
            "\u001b[?25hRequirement already satisfied: dataclasses; python_version < \"3.7\" in /usr/local/lib/python3.6/dist-packages (from transformers) (0.7)\n",
            "Requirement already satisfied: packaging in /usr/local/lib/python3.6/dist-packages (from transformers) (20.4)\n",
            "Collecting sentencepiece!=0.1.92\n",
            "\u001b[?25l  Downloading https://files.pythonhosted.org/packages/d4/a4/d0a884c4300004a78cca907a6ff9a5e9fe4f090f5d95ab341c53d28cbc58/sentencepiece-0.1.91-cp36-cp36m-manylinux1_x86_64.whl (1.1MB)\n",
            "\u001b[K     |████████████████████████████████| 1.1MB 48.2MB/s \n",
            "\u001b[?25hRequirement already satisfied: regex!=2019.12.17 in /usr/local/lib/python3.6/dist-packages (from transformers) (2019.12.20)\n",
            "Requirement already satisfied: filelock in /usr/local/lib/python3.6/dist-packages (from transformers) (3.0.12)\n",
            "Requirement already satisfied: certifi>=2017.4.17 in /usr/local/lib/python3.6/dist-packages (from requests->transformers) (2020.6.20)\n",
            "Requirement already satisfied: idna<3,>=2.5 in /usr/local/lib/python3.6/dist-packages (from requests->transformers) (2.10)\n",
            "Requirement already satisfied: urllib3!=1.25.0,!=1.25.1,<1.26,>=1.21.1 in /usr/local/lib/python3.6/dist-packages (from requests->transformers) (1.24.3)\n",
            "Requirement already satisfied: chardet<4,>=3.0.2 in /usr/local/lib/python3.6/dist-packages (from requests->transformers) (3.0.4)\n",
            "Requirement already satisfied: six in /usr/local/lib/python3.6/dist-packages (from sacremoses->transformers) (1.15.0)\n",
            "Requirement already satisfied: click in /usr/local/lib/python3.6/dist-packages (from sacremoses->transformers) (7.1.2)\n",
            "Requirement already satisfied: joblib in /usr/local/lib/python3.6/dist-packages (from sacremoses->transformers) (0.16.0)\n",
            "Requirement already satisfied: pyparsing>=2.0.2 in /usr/local/lib/python3.6/dist-packages (from packaging->transformers) (2.4.7)\n",
            "Building wheels for collected packages: sacremoses\n",
            "  Building wheel for sacremoses (setup.py) ... \u001b[?25l\u001b[?25hdone\n",
            "  Created wheel for sacremoses: filename=sacremoses-0.0.43-cp36-none-any.whl size=893257 sha256=a6ff08d4c0ebcee692040112c40f945334f477c80f7e2f86fcbd3635318eca60\n",
            "  Stored in directory: /root/.cache/pip/wheels/29/3c/fd/7ce5c3f0666dab31a50123635e6fb5e19ceb42ce38d4e58f45\n",
            "Successfully built sacremoses\n",
            "Installing collected packages: tokenizers, sacremoses, sentencepiece, transformers\n",
            "Successfully installed sacremoses-0.0.43 sentencepiece-0.1.91 tokenizers-0.8.1rc2 transformers-3.3.1\n"
          ],
          "name": "stdout"
        }
      ]
    },
    {
      "cell_type": "code",
      "metadata": {
        "id": "D12fYdYW8Jyg",
        "outputId": "f174df6d-5d2e-43cd-a6b1-89fa75b1893f",
        "colab": {
          "base_uri": "https://localhost:8080/",
          "height": 33
        }
      },
      "source": [
        "gpt2.mount_gdrive()"
      ],
      "execution_count": 4,
      "outputs": [
        {
          "output_type": "stream",
          "text": [
            "Mounted at /content/drive\n"
          ],
          "name": "stdout"
        }
      ]
    },
    {
      "cell_type": "markdown",
      "metadata": {
        "id": "V1RB1FKI8id9"
      },
      "source": [
        "##GPT2"
      ]
    },
    {
      "cell_type": "code",
      "metadata": {
        "id": "s-i0LyL28ZSR",
        "outputId": "92a1be65-7f3b-4014-acfc-6b8b501a078a",
        "colab": {
          "base_uri": "https://localhost:8080/",
          "height": 163
        }
      },
      "source": [
        "gpt2.download_gpt2(model_name=\"355M\")\n",
        "gpt2.copy_checkpoint_from_gdrive(run_name='run1_topical_token')\n",
        "sess = gpt2.start_tf_sess()\n",
        "gpt2.load_gpt2(sess, run_name='run1_topical_token')"
      ],
      "execution_count": 5,
      "outputs": [
        {
          "output_type": "stream",
          "text": [
            "Fetching checkpoint: 1.05Mit [00:00, 439Mit/s]                                                      \n",
            "Fetching encoder.json: 1.05Mit [00:00, 86.0Mit/s]                                                   \n",
            "Fetching hparams.json: 1.05Mit [00:00, 247Mit/s]                                                    \n",
            "Fetching model.ckpt.data-00000-of-00001: 1.42Git [00:16, 87.6Mit/s]                                 \n",
            "Fetching model.ckpt.index: 1.05Mit [00:00, 255Mit/s]                                                \n",
            "Fetching model.ckpt.meta: 1.05Mit [00:00, 85.0Mit/s]                                                \n",
            "Fetching vocab.bpe: 1.05Mit [00:00, 148Mit/s]                                                       \n"
          ],
          "name": "stderr"
        },
        {
          "output_type": "stream",
          "text": [
            "Loading checkpoint checkpoint/run1_topical_token/model-2000\n",
            "INFO:tensorflow:Restoring parameters from checkpoint/run1_topical_token/model-2000\n"
          ],
          "name": "stdout"
        }
      ]
    },
    {
      "cell_type": "code",
      "metadata": {
        "id": "TMmh_BiD8ugk"
      },
      "source": [
        "def generate(input):\n",
        "  print(\"GPT2 generating for :\",input)\n",
        "  generated_text = gpt2.generate(sess,\n",
        "              length=100,\n",
        "              run_name='run1_topical_token',\n",
        "              return_as_list=True,\n",
        "              temperature=0.7,\n",
        "              prefix=input,\n",
        "              nsamples=15,\n",
        "              truncate = '.',\n",
        "              batch_size=5,\n",
        "              top_k = 5,\n",
        "              include_prefix = False)\n",
        "  \n",
        "  def clean(input_st, sub):\n",
        "    return input_st.replace(sub, '').lstrip()\n",
        "\n",
        "  cleaned = []\n",
        "  for text in generated_text:\n",
        "    cleaned.append(re.sub(r\"^\\W+\", \"\",clean(text,'<|endoftext|>')))\n",
        "\n",
        "  return cleaned\n"
      ],
      "execution_count": 6,
      "outputs": []
    },
    {
      "cell_type": "markdown",
      "metadata": {
        "id": "r9P9hyIs96xY"
      },
      "source": [
        "# Data"
      ]
    },
    {
      "cell_type": "code",
      "metadata": {
        "id": "aTv386cD98Sp"
      },
      "source": [
        "import json\n",
        "def load_json(filename):\n",
        "  with open(filename) as f:\n",
        "    res = json.load(f)\n",
        "    return res"
      ],
      "execution_count": 7,
      "outputs": []
    },
    {
      "cell_type": "code",
      "metadata": {
        "id": "71qWgOFD-wk-"
      },
      "source": [
        "pred_file = \"/content/drive/My Drive/Thesis project/Thesis project/datasets/post BERT/predictions.json\"\n",
        "ques_file = \"/content/drive/My Drive/Thesis project/Thesis project/datasets/post BERT/questions.csv\""
      ],
      "execution_count": 12,
      "outputs": []
    },
    {
      "cell_type": "code",
      "metadata": {
        "id": "9-Kh5tOV_9K2"
      },
      "source": [
        "df = pd.read_csv(ques_file)\n",
        "questions = list(df['Questions'])\n",
        "predictions = load_json(pred_file)"
      ],
      "execution_count": 13,
      "outputs": []
    },
    {
      "cell_type": "markdown",
      "metadata": {
        "id": "iE8twCM6AyJd"
      },
      "source": [
        "#Generation"
      ]
    },
    {
      "cell_type": "markdown",
      "metadata": {
        "id": "RuA19UeZJKMn"
      },
      "source": [
        "## BERT NSP"
      ]
    },
    {
      "cell_type": "code",
      "metadata": {
        "id": "YbcvLRRAJMx3",
        "outputId": "edfc1029-ef29-4f12-ff92-81466dede480",
        "colab": {
          "base_uri": "https://localhost:8080/",
          "height": 230,
          "referenced_widgets": [
            "222a025cb93748bb8a47bd3e6b11c379",
            "ed521cf6fd2346659f6800777d76e9eb",
            "d76b5663a57f4f4badc86948090793c0",
            "70c22d5681fe4d6eb80b330998496a51",
            "b2f9863966c44d97af1fdf7dfb3165d0",
            "c6bf0f74be554d02b96e5567aec862de",
            "6ac0e4deb7464df4ac46b878cea312fd",
            "f8e5b1a7b8ee4b38b027d2b014188984",
            "576fcdf967c9470ea5fb3a46102ac298",
            "fe1295645aac4749b23afb456ac7880d",
            "a4e1ac5713bd4f449cf8705b367633cd",
            "460dcaa669d54e78a0232602bb8a0005",
            "e37743755bba49b992fe35527cf3c55a",
            "015d8fd9de2f4d40936170ee3e489136",
            "c4291ea6c22e42f7a4cf4edfebe8091b",
            "e6d7753f492c464c940169c97e0733e6",
            "611dec428456413ebde0954f0e7c9fce",
            "3be22946fbd648a1803b1701e01c8f83",
            "a26d02d7072340d79afff6371632f1a5",
            "ccea8e37ed584f209f23325fbe686bfa",
            "ff9fe6e6e9fa475493efb5e357a469e4",
            "81505e57dbdc4abfa83f17ac5f2145ea",
            "41777744f5114c80a282f648fd0892d5",
            "c95b59361ce04724a21d37501ca892d1"
          ]
        }
      },
      "source": [
        "from torch.nn.functional import softmax\n",
        "from transformers import BertForNextSentencePrediction, BertTokenizer\n",
        "model = BertForNextSentencePrediction.from_pretrained('bert-base-cased')\n",
        "tokenizer = BertTokenizer.from_pretrained('bert-base-cased')"
      ],
      "execution_count": 10,
      "outputs": [
        {
          "output_type": "display_data",
          "data": {
            "application/vnd.jupyter.widget-view+json": {
              "model_id": "222a025cb93748bb8a47bd3e6b11c379",
              "version_minor": 0,
              "version_major": 2
            },
            "text/plain": [
              "HBox(children=(FloatProgress(value=0.0, description='Downloading', max=433.0, style=ProgressStyle(description_…"
            ]
          },
          "metadata": {
            "tags": []
          }
        },
        {
          "output_type": "stream",
          "text": [
            "\n"
          ],
          "name": "stdout"
        },
        {
          "output_type": "display_data",
          "data": {
            "application/vnd.jupyter.widget-view+json": {
              "model_id": "576fcdf967c9470ea5fb3a46102ac298",
              "version_minor": 0,
              "version_major": 2
            },
            "text/plain": [
              "HBox(children=(FloatProgress(value=0.0, description='Downloading', max=435779157.0, style=ProgressStyle(descri…"
            ]
          },
          "metadata": {
            "tags": []
          }
        },
        {
          "output_type": "stream",
          "text": [
            "\n"
          ],
          "name": "stdout"
        },
        {
          "output_type": "stream",
          "text": [
            "Some weights of the model checkpoint at bert-base-cased were not used when initializing BertForNextSentencePrediction: ['cls.predictions.bias', 'cls.predictions.transform.dense.weight', 'cls.predictions.transform.dense.bias', 'cls.predictions.decoder.weight', 'cls.predictions.transform.LayerNorm.weight', 'cls.predictions.transform.LayerNorm.bias']\n",
            "- This IS expected if you are initializing BertForNextSentencePrediction from the checkpoint of a model trained on another task or with another architecture (e.g. initializing a BertForSequenceClassification model from a BertForPretraining model).\n",
            "- This IS NOT expected if you are initializing BertForNextSentencePrediction from the checkpoint of a model that you expect to be exactly identical (initializing a BertForSequenceClassification model from a BertForSequenceClassification model).\n"
          ],
          "name": "stderr"
        },
        {
          "output_type": "display_data",
          "data": {
            "application/vnd.jupyter.widget-view+json": {
              "model_id": "611dec428456413ebde0954f0e7c9fce",
              "version_minor": 0,
              "version_major": 2
            },
            "text/plain": [
              "HBox(children=(FloatProgress(value=0.0, description='Downloading', max=213450.0, style=ProgressStyle(descripti…"
            ]
          },
          "metadata": {
            "tags": []
          }
        },
        {
          "output_type": "stream",
          "text": [
            "\n"
          ],
          "name": "stdout"
        }
      ]
    },
    {
      "cell_type": "code",
      "metadata": {
        "id": "vejZ8IQTJWwj"
      },
      "source": [
        "def top_result(seq_A,seq_B):\n",
        "\n",
        "  response = seq_B[0]\n",
        "  max_prob = -1\n",
        "  for seq in seq_B:\n",
        "    encoded = tokenizer.encode_plus(seq_A, text_pair=seq, return_tensors='pt')\n",
        "    seq_relationship_logits = model(**encoded)[0]\n",
        "    probs = softmax(seq_relationship_logits, dim=1)\n",
        "    if probs[0][0] > max_prob:\n",
        "      max_prob = probs[0][0]\n",
        "      response = seq\n",
        "  if max_prob > 0.95:\n",
        "    return response\n",
        "  else:\n",
        "    return -1"
      ],
      "execution_count": 16,
      "outputs": []
    },
    {
      "cell_type": "code",
      "metadata": {
        "id": "UAYjVVNtB1mL"
      },
      "source": [
        "def get_response(input):\n",
        "  response = -1\n",
        "  while(response == -1):\n",
        "    temp = generate(input)\n",
        "    response = top_result(input,temp)\n",
        "  return response\n",
        "  \n",
        "def answers_json(questions,predictions):\n",
        "  responses = {}\n",
        "  prefix = \"This is beyond my knowledge but here's what I think.\"\n",
        "  for idx in range(0,len(questions)):\n",
        "    print(questions[idx])\n",
        "    if(str(idx) not in predictions or predictions[str(idx)] == \"\"):\n",
        "      res = get_response(questions[idx])\n",
        "      res = prefix + res\n",
        "    else:\n",
        "      res = predictions[str(idx)]\n",
        "    responses[idx] = res\n",
        "  return responses"
      ],
      "execution_count": 22,
      "outputs": []
    },
    {
      "cell_type": "code",
      "metadata": {
        "id": "OzfU5rxrL31W",
        "outputId": "0f75ce01-ac4b-43e3-bc26-2366cce46fe6",
        "colab": {
          "base_uri": "https://localhost:8080/",
          "height": 1000
        }
      },
      "source": [
        "responses = answers_json(questions,predictions)"
      ],
      "execution_count": 23,
      "outputs": [
        {
          "output_type": "stream",
          "text": [
            "Why do we create Art?\n",
            "GPT2 generating for : Why do we create Art?\n",
            "What is free will?\n",
            "GPT2 generating for : What is free will?\n",
            "What is freedom\n",
            "GPT2 generating for : What is freedom\n",
            "What is truth?\n",
            "What is the soul?\n",
            "What do you fear most?\n",
            "GPT2 generating for : What do you fear most?\n",
            "Is there such a thing as luck\n",
            "Are clowns funny or scary?\n",
            "GPT2 generating for : Are clowns funny or scary?\n",
            "What are rights?\n",
            "GPT2 generating for : What are rights?\n",
            "What is mercy?\n",
            "GPT2 generating for : What is mercy?\n",
            "What is self-esteem?\n",
            "what is age?\n",
            "Can money buy happiness?\n",
            "Do you like music?\n",
            "What are dreams?\n",
            "How to be happy?\n",
            "What is beauty?\n",
            "GPT2 generating for : What is beauty?\n",
            "Should you forgive people?\n",
            "GPT2 generating for : Should you forgive people?\n",
            "Is our universe real?\n",
            "Does god exist?\n",
            "What is friendship?\n",
            "What is patriotism?\n",
            "GPT2 generating for : What is patriotism?\n",
            "Are wars necessary?\n",
            "What is time?\n",
            "What do you think about time travel?\n",
            "GPT2 generating for : What do you think about time travel?\n",
            "What is philosophy?\n",
            "Who are you?\n",
            "GPT2 generating for : Who are you?\n",
            "Do animals have feelings?\n",
            "What is the goal of life?\n",
            "Is lying okay?\n",
            "GPT2 generating for : Is lying okay?\n",
            "Is humanity headed in the right direction?\n",
            "GPT2 generating for : Is humanity headed in the right direction?\n",
            "What is wisdom?\n",
            "GPT2 generating for : What is wisdom?\n",
            "What is waste of human potential?\n",
            "GPT2 generating for : What is waste of human potential?\n",
            "What is funny?\n",
            "GPT2 generating for : What is funny?\n",
            "Are animals moral?\n",
            "is privacy a right?\n",
            "GPT2 generating for : is privacy a right?\n",
            "What is your definition of evil?\n",
            "GPT2 generating for : What is your definition of evil?\n",
            "Is censorship necessary?\n",
            "GPT2 generating for : Is censorship necessary?\n",
            "Who are you?\n",
            "GPT2 generating for : Who are you?\n",
            "How to be confident?\n",
            "Is everyone's life value equal?\n"
          ],
          "name": "stdout"
        }
      ]
    },
    {
      "cell_type": "code",
      "metadata": {
        "id": "7aLzrYryMLXu",
        "outputId": "c2fdfb8d-2a4e-4b0c-99ad-cb0148fc7364",
        "colab": {
          "base_uri": "https://localhost:8080/",
          "height": 33
        }
      },
      "source": [
        "len(responses)"
      ],
      "execution_count": 24,
      "outputs": [
        {
          "output_type": "execute_result",
          "data": {
            "text/plain": [
              "41"
            ]
          },
          "metadata": {
            "tags": []
          },
          "execution_count": 24
        }
      ]
    },
    {
      "cell_type": "code",
      "metadata": {
        "id": "TcOOydCJOEC3"
      },
      "source": [
        "import csv\n",
        "res_file = \"/content/drive/My Drive/Thesis project/Thesis project/datasets/post BERT/responses.csv\"\n",
        "with open(res_file,\"w\") as f:\n",
        "  writer = csv.writer(f)\n",
        "  writer.writerow([\"Question\",\"Answer\"])\n",
        "  for idx in range(0,len(questions)):\n",
        "    writer.writerow([questions[idx], responses[idx]])"
      ],
      "execution_count": 27,
      "outputs": []
    },
    {
      "cell_type": "code",
      "metadata": {
        "id": "bSLw3boWYX_B"
      },
      "source": [
        ""
      ],
      "execution_count": null,
      "outputs": []
    }
  ]
}