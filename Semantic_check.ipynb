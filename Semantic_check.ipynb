{
  "nbformat": 4,
  "nbformat_minor": 0,
  "metadata": {
    "colab": {
      "name": "Semantic_check.ipynb",
      "provenance": [],
      "toc_visible": true,
      "authorship_tag": "ABX9TyPICmmSKKxIDYYUSeIxZ/5t",
      "include_colab_link": true
    },
    "kernelspec": {
      "name": "python3",
      "display_name": "Python 3"
    },
    "accelerator": "GPU"
  },
  "cells": [
    {
      "cell_type": "markdown",
      "metadata": {
        "id": "view-in-github",
        "colab_type": "text"
      },
      "source": [
        "<a href=\"https://colab.research.google.com/github/lavanaythakral/GPT2-answers/blob/master/Semantic_check.ipynb\" target=\"_parent\"><img src=\"https://colab.research.google.com/assets/colab-badge.svg\" alt=\"Open In Colab\"/></a>"
      ]
    },
    {
      "cell_type": "markdown",
      "metadata": {
        "id": "OavVb4qHCThA"
      },
      "source": [
        "#Prerequisites"
      ]
    },
    {
      "cell_type": "code",
      "metadata": {
        "id": "FZCMfu6qt8OQ"
      },
      "source": [
        "import pandas as pd\n",
        "import matplotlib.pyplot as plt \n",
        "import numpy as np \n",
        "from google.colab import drive\n",
        "import scipy\n",
        "import json"
      ],
      "execution_count": 2,
      "outputs": []
    },
    {
      "cell_type": "code",
      "metadata": {
        "id": "icqYhZziuWm_",
        "outputId": "51f742c3-1d2c-4bc4-da54-524371bc29a5",
        "colab": {
          "base_uri": "https://localhost:8080/",
          "height": 33
        }
      },
      "source": [
        "from google.colab import drive\n",
        "drive.mount('/content/drive')"
      ],
      "execution_count": 3,
      "outputs": [
        {
          "output_type": "stream",
          "text": [
            "Mounted at /content/drive\n"
          ],
          "name": "stdout"
        }
      ]
    },
    {
      "cell_type": "markdown",
      "metadata": {
        "id": "8ycIZW_809CZ"
      },
      "source": [
        "#Data"
      ]
    },
    {
      "cell_type": "code",
      "metadata": {
        "id": "798ifVMgjvkP",
        "outputId": "f73c98a5-7901-46ec-943f-fc74fd8ca007",
        "colab": {
          "base_uri": "https://localhost:8080/",
          "height": 33
        }
      },
      "source": [
        "import tensorflow as tf\n",
        "print(tf.__version__)"
      ],
      "execution_count": 4,
      "outputs": [
        {
          "output_type": "stream",
          "text": [
            "2.3.0\n"
          ],
          "name": "stdout"
        }
      ]
    },
    {
      "cell_type": "code",
      "metadata": {
        "id": "fU-Ir6vbufmn"
      },
      "source": [
        "filename = \"/content/drive/My Drive/Thesis project/Thesis project/datasets/post BERT/responses_latest.csv\""
      ],
      "execution_count": 26,
      "outputs": []
    },
    {
      "cell_type": "code",
      "metadata": {
        "id": "hCREkVF9vFdq",
        "outputId": "1dc63942-ad19-4103-94d1-a9c3f3f98853",
        "colab": {
          "base_uri": "https://localhost:8080/",
          "height": 191
        }
      },
      "source": [
        "df = pd.read_csv(filename)\n",
        "df.head(5)"
      ],
      "execution_count": 27,
      "outputs": [
        {
          "output_type": "execute_result",
          "data": {
            "text/html": [
              "<div>\n",
              "<style scoped>\n",
              "    .dataframe tbody tr th:only-of-type {\n",
              "        vertical-align: middle;\n",
              "    }\n",
              "\n",
              "    .dataframe tbody tr th {\n",
              "        vertical-align: top;\n",
              "    }\n",
              "\n",
              "    .dataframe thead th {\n",
              "        text-align: right;\n",
              "    }\n",
              "</style>\n",
              "<table border=\"1\" class=\"dataframe\">\n",
              "  <thead>\n",
              "    <tr style=\"text-align: right;\">\n",
              "      <th></th>\n",
              "      <th>Question</th>\n",
              "      <th>Answer</th>\n",
              "    </tr>\n",
              "  </thead>\n",
              "  <tbody>\n",
              "    <tr>\n",
              "      <th>0</th>\n",
              "      <td>Why do we create Art?</td>\n",
              "      <td>The answer is simple: we  create because we wa...</td>\n",
              "    </tr>\n",
              "    <tr>\n",
              "      <th>1</th>\n",
              "      <td>What is free will?</td>\n",
              "      <td>What is intelligence?\"I explained to him the p...</td>\n",
              "    </tr>\n",
              "    <tr>\n",
              "      <th>2</th>\n",
              "      <td>What is freedom</td>\n",
              "      <td>This is beyond my knowledge but here's what I ...</td>\n",
              "    </tr>\n",
              "    <tr>\n",
              "      <th>3</th>\n",
              "      <td>What is truth?</td>\n",
              "      <td>there is a great deal that most of us can indi...</td>\n",
              "    </tr>\n",
              "    <tr>\n",
              "      <th>4</th>\n",
              "      <td>What is the soul?</td>\n",
              "      <td>Nandi</td>\n",
              "    </tr>\n",
              "  </tbody>\n",
              "</table>\n",
              "</div>"
            ],
            "text/plain": [
              "                Question                                             Answer\n",
              "0  Why do we create Art?  The answer is simple: we  create because we wa...\n",
              "1     What is free will?  What is intelligence?\"I explained to him the p...\n",
              "2        What is freedom  This is beyond my knowledge but here's what I ...\n",
              "3         What is truth?  there is a great deal that most of us can indi...\n",
              "4      What is the soul?                                              Nandi"
            ]
          },
          "metadata": {
            "tags": []
          },
          "execution_count": 27
        }
      ]
    },
    {
      "cell_type": "code",
      "metadata": {
        "id": "RBXcIBL93j-J"
      },
      "source": [
        "questions = list(df['Question'])\n",
        "answers = list(df['Answer'])"
      ],
      "execution_count": 28,
      "outputs": []
    },
    {
      "cell_type": "code",
      "metadata": {
        "id": "Dwfr-O7YwAEo",
        "outputId": "1db316b1-2947-4c5c-9f06-9bb2369b2a67",
        "colab": {
          "base_uri": "https://localhost:8080/",
          "height": 33
        }
      },
      "source": [
        "len(questions)"
      ],
      "execution_count": 29,
      "outputs": [
        {
          "output_type": "execute_result",
          "data": {
            "text/plain": [
              "41"
            ]
          },
          "metadata": {
            "tags": []
          },
          "execution_count": 29
        }
      ]
    },
    {
      "cell_type": "code",
      "metadata": {
        "id": "7Bc7VlUoI9qI"
      },
      "source": [
        "answ1 = list(df['Answer'])\n",
        "answers = []\n",
        "for ans in answ1:\n",
        "  answers.append(ans.replace(\"This is beyond my knowledge but here's what I think.\",\"\"))"
      ],
      "execution_count": 9,
      "outputs": []
    },
    {
      "cell_type": "code",
      "metadata": {
        "id": "axTJySKoJCs9"
      },
      "source": [
        "df['Answer'] = answers"
      ],
      "execution_count": 10,
      "outputs": []
    },
    {
      "cell_type": "markdown",
      "metadata": {
        "id": "j0-qCA500-gl"
      },
      "source": [
        "#Sentence Tranformers"
      ]
    },
    {
      "cell_type": "code",
      "metadata": {
        "id": "p0_Myw97y3jn",
        "outputId": "c2cfb8fe-5da7-455b-fd0d-690f883bcb91",
        "colab": {
          "base_uri": "https://localhost:8080/",
          "height": 748
        }
      },
      "source": [
        "!pip install -U sentence-transformers"
      ],
      "execution_count": 11,
      "outputs": [
        {
          "output_type": "stream",
          "text": [
            "Collecting sentence-transformers\n",
            "\u001b[?25l  Downloading https://files.pythonhosted.org/packages/ce/4b/0add07b1eebbbe83e77fb5ac4e72e87046c3fc2c9cb16f7d1cd8c6921a1d/sentence-transformers-0.3.7.2.tar.gz (59kB)\n",
            "\u001b[K     |████████████████████████████████| 61kB 3.0MB/s \n",
            "\u001b[?25hCollecting transformers<3.4.0,>=3.1.0\n",
            "\u001b[?25l  Downloading https://files.pythonhosted.org/packages/19/22/aff234f4a841f8999e68a7a94bdd4b60b4cebcfeca5d67d61cd08c9179de/transformers-3.3.1-py3-none-any.whl (1.1MB)\n",
            "\u001b[K     |████████████████████████████████| 1.1MB 12.4MB/s \n",
            "\u001b[?25hRequirement already satisfied, skipping upgrade: tqdm in /usr/local/lib/python3.6/dist-packages (from sentence-transformers) (4.41.1)\n",
            "Requirement already satisfied, skipping upgrade: torch>=1.2.0 in /usr/local/lib/python3.6/dist-packages (from sentence-transformers) (1.6.0+cu101)\n",
            "Requirement already satisfied, skipping upgrade: numpy in /usr/local/lib/python3.6/dist-packages (from sentence-transformers) (1.18.5)\n",
            "Requirement already satisfied, skipping upgrade: scikit-learn in /usr/local/lib/python3.6/dist-packages (from sentence-transformers) (0.22.2.post1)\n",
            "Requirement already satisfied, skipping upgrade: scipy in /usr/local/lib/python3.6/dist-packages (from sentence-transformers) (1.4.1)\n",
            "Requirement already satisfied, skipping upgrade: nltk in /usr/local/lib/python3.6/dist-packages (from sentence-transformers) (3.2.5)\n",
            "Requirement already satisfied, skipping upgrade: dataclasses; python_version < \"3.7\" in /usr/local/lib/python3.6/dist-packages (from transformers<3.4.0,>=3.1.0->sentence-transformers) (0.7)\n",
            "Requirement already satisfied, skipping upgrade: packaging in /usr/local/lib/python3.6/dist-packages (from transformers<3.4.0,>=3.1.0->sentence-transformers) (20.4)\n",
            "Collecting tokenizers==0.8.1.rc2\n",
            "\u001b[?25l  Downloading https://files.pythonhosted.org/packages/80/83/8b9fccb9e48eeb575ee19179e2bdde0ee9a1904f97de5f02d19016b8804f/tokenizers-0.8.1rc2-cp36-cp36m-manylinux1_x86_64.whl (3.0MB)\n",
            "\u001b[K     |████████████████████████████████| 3.0MB 36.8MB/s \n",
            "\u001b[?25hCollecting sacremoses\n",
            "\u001b[?25l  Downloading https://files.pythonhosted.org/packages/7d/34/09d19aff26edcc8eb2a01bed8e98f13a1537005d31e95233fd48216eed10/sacremoses-0.0.43.tar.gz (883kB)\n",
            "\u001b[K     |████████████████████████████████| 890kB 55.5MB/s \n",
            "\u001b[?25hRequirement already satisfied, skipping upgrade: requests in /usr/local/lib/python3.6/dist-packages (from transformers<3.4.0,>=3.1.0->sentence-transformers) (2.23.0)\n",
            "Requirement already satisfied, skipping upgrade: filelock in /usr/local/lib/python3.6/dist-packages (from transformers<3.4.0,>=3.1.0->sentence-transformers) (3.0.12)\n",
            "Collecting sentencepiece!=0.1.92\n",
            "\u001b[?25l  Downloading https://files.pythonhosted.org/packages/d4/a4/d0a884c4300004a78cca907a6ff9a5e9fe4f090f5d95ab341c53d28cbc58/sentencepiece-0.1.91-cp36-cp36m-manylinux1_x86_64.whl (1.1MB)\n",
            "\u001b[K     |████████████████████████████████| 1.1MB 48.2MB/s \n",
            "\u001b[?25hRequirement already satisfied, skipping upgrade: regex!=2019.12.17 in /usr/local/lib/python3.6/dist-packages (from transformers<3.4.0,>=3.1.0->sentence-transformers) (2019.12.20)\n",
            "Requirement already satisfied, skipping upgrade: future in /usr/local/lib/python3.6/dist-packages (from torch>=1.2.0->sentence-transformers) (0.16.0)\n",
            "Requirement already satisfied, skipping upgrade: joblib>=0.11 in /usr/local/lib/python3.6/dist-packages (from scikit-learn->sentence-transformers) (0.16.0)\n",
            "Requirement already satisfied, skipping upgrade: six in /usr/local/lib/python3.6/dist-packages (from nltk->sentence-transformers) (1.15.0)\n",
            "Requirement already satisfied, skipping upgrade: pyparsing>=2.0.2 in /usr/local/lib/python3.6/dist-packages (from packaging->transformers<3.4.0,>=3.1.0->sentence-transformers) (2.4.7)\n",
            "Requirement already satisfied, skipping upgrade: click in /usr/local/lib/python3.6/dist-packages (from sacremoses->transformers<3.4.0,>=3.1.0->sentence-transformers) (7.1.2)\n",
            "Requirement already satisfied, skipping upgrade: certifi>=2017.4.17 in /usr/local/lib/python3.6/dist-packages (from requests->transformers<3.4.0,>=3.1.0->sentence-transformers) (2020.6.20)\n",
            "Requirement already satisfied, skipping upgrade: idna<3,>=2.5 in /usr/local/lib/python3.6/dist-packages (from requests->transformers<3.4.0,>=3.1.0->sentence-transformers) (2.10)\n",
            "Requirement already satisfied, skipping upgrade: chardet<4,>=3.0.2 in /usr/local/lib/python3.6/dist-packages (from requests->transformers<3.4.0,>=3.1.0->sentence-transformers) (3.0.4)\n",
            "Requirement already satisfied, skipping upgrade: urllib3!=1.25.0,!=1.25.1,<1.26,>=1.21.1 in /usr/local/lib/python3.6/dist-packages (from requests->transformers<3.4.0,>=3.1.0->sentence-transformers) (1.24.3)\n",
            "Building wheels for collected packages: sentence-transformers, sacremoses\n",
            "  Building wheel for sentence-transformers (setup.py) ... \u001b[?25l\u001b[?25hdone\n",
            "  Created wheel for sentence-transformers: filename=sentence_transformers-0.3.7.2-cp36-none-any.whl size=91190 sha256=86cff63e9dc52874800d6ada14e152dc11fab2a0146ffc2e091a702fc331e282\n",
            "  Stored in directory: /root/.cache/pip/wheels/4b/8f/23/7f93e91176acc7c2d651b54fa9f01e3624a47904145c4d133e\n",
            "  Building wheel for sacremoses (setup.py) ... \u001b[?25l\u001b[?25hdone\n",
            "  Created wheel for sacremoses: filename=sacremoses-0.0.43-cp36-none-any.whl size=893257 sha256=e43f7b336e078d23eb0ea20fa381c18d80091491c70ce8b3ea4154accbba39c5\n",
            "  Stored in directory: /root/.cache/pip/wheels/29/3c/fd/7ce5c3f0666dab31a50123635e6fb5e19ceb42ce38d4e58f45\n",
            "Successfully built sentence-transformers sacremoses\n",
            "Installing collected packages: tokenizers, sacremoses, sentencepiece, transformers, sentence-transformers\n",
            "Successfully installed sacremoses-0.0.43 sentence-transformers-0.3.7.2 sentencepiece-0.1.91 tokenizers-0.8.1rc2 transformers-3.3.1\n"
          ],
          "name": "stdout"
        }
      ]
    },
    {
      "cell_type": "code",
      "metadata": {
        "id": "QMEp7xud01T0",
        "outputId": "fa9cc104-8739-4e61-da29-b2a2bb1870ca",
        "colab": {
          "base_uri": "https://localhost:8080/",
          "height": 33
        }
      },
      "source": [
        "from sentence_transformers import SentenceTransformer\n",
        "model = SentenceTransformer('bert-base-nli-mean-tokens')"
      ],
      "execution_count": 12,
      "outputs": [
        {
          "output_type": "stream",
          "text": [
            "100%|██████████| 405M/405M [00:23<00:00, 17.0MB/s]\n"
          ],
          "name": "stderr"
        }
      ]
    },
    {
      "cell_type": "code",
      "metadata": {
        "id": "JWZT3f9m1sVm"
      },
      "source": [
        "#s1,s2 are strings\n",
        "def calculate(s1,s2):\n",
        "  e1 = model.encode([s1])\n",
        "  e2 = model.encode([s2])\n",
        "  distance = scipy.spatial.distance.cdist([e1[0]], [e2[0]], \"cosine\")[0]\n",
        "  return distance[0]"
      ],
      "execution_count": 13,
      "outputs": []
    },
    {
      "cell_type": "code",
      "metadata": {
        "id": "bZN0HvyH3DVy"
      },
      "source": [
        "def verification(questions,answers):\n",
        "  scores = []\n",
        "  for ques,ans in zip(questions,answers):\n",
        "    scores.append(calculate(ques,ans))\n",
        "  return scores"
      ],
      "execution_count": 14,
      "outputs": []
    },
    {
      "cell_type": "markdown",
      "metadata": {
        "id": "CMZGFYTOCLf2"
      },
      "source": [
        "#Removing outliers"
      ]
    },
    {
      "cell_type": "code",
      "metadata": {
        "id": "C7zsjTWN8SQS"
      },
      "source": [
        "def set_range(questions,answers):\n",
        "  v = verification(questions,answers)\n",
        "  fig = plt.figure(figsize =(10, 7))  \n",
        "  res = plt.boxplot(v) \n",
        "  min = (res['whiskers'][0].get_ydata()[0] + res['whiskers'][0].get_ydata()[1])/2\n",
        "  max = (res['whiskers'][1].get_ydata()[1] + res['whiskers'][1].get_ydata()[0])/2\n",
        "  print(min,max)\n",
        "  plt.show() \n",
        "  return [min,max]"
      ],
      "execution_count": 15,
      "outputs": []
    },
    {
      "cell_type": "code",
      "metadata": {
        "id": "CrtXzuSh35W7",
        "outputId": "e8df4223-f7f9-4763-dd86-47488dca9324",
        "colab": {
          "base_uri": "https://localhost:8080/",
          "height": 460
        }
      },
      "source": [
        "set_range(questions,answers)"
      ],
      "execution_count": 16,
      "outputs": [
        {
          "output_type": "stream",
          "text": [
            "0.24914894699621126 0.7241658500267394\n"
          ],
          "name": "stdout"
        },
        {
          "output_type": "display_data",
          "data": {
            "image/png": "[encoded data removed]",
            "text/plain": [
              "<Figure size 720x504 with 1 Axes>"
            ]
          },
          "metadata": {
            "tags": [],
            "needs_background": "light"
          }
        },
        {
          "output_type": "execute_result",
          "data": {
            "text/plain": [
              "[0.24914894699621126, 0.7241658500267394]"
            ]
          },
          "metadata": {
            "tags": []
          },
          "execution_count": 16
        }
      ]
    },
    {
      "cell_type": "code",
      "metadata": {
        "id": "yY5JbqCY9BC_"
      },
      "source": [
        "def refine(df):\n",
        "  questions = list(df['Question'])\n",
        "  answers = list(df['Answer'])\n",
        "  scores = verification(questions,answers)\n",
        "  df['scores'] = scores\n",
        "  # min,max = set_range(questions,answers)\n",
        "  rows = []\n",
        "  min = .11\n",
        "  max = .76\n",
        "  print(min,max)\n",
        "  predictions = {}\n",
        "  for idx,(ques,ans,score) in enumerate(zip(questions,answers,scores)):\n",
        "    if(score <= max and score >= min):\n",
        "      dict1 = {}\n",
        "      dict1['Question'] = ques\n",
        "      dict1['Answer'] = ans\n",
        "      predictions[str(idx)] = ans\n",
        "      rows.append(dict1)\n",
        "  return pd.DataFrame(rows),json.dumps(predictions,indent = 1)"
      ],
      "execution_count": 30,
      "outputs": []
    },
    {
      "cell_type": "code",
      "metadata": {
        "id": "7T81q9ce-8Bq",
        "outputId": "e9252f83-f5a4-4ca6-f6ea-69c109dc0f0f",
        "colab": {
          "base_uri": "https://localhost:8080/",
          "height": 33
        }
      },
      "source": [
        "df_range,predictions = refine(df)"
      ],
      "execution_count": 31,
      "outputs": [
        {
          "output_type": "stream",
          "text": [
            "0.11 0.76\n"
          ],
          "name": "stdout"
        }
      ]
    },
    {
      "cell_type": "code",
      "metadata": {
        "id": "1-24lhW4sxsx",
        "outputId": "828fcc5c-7687-4706-cd6d-679a0b4a19fa",
        "colab": {
          "base_uri": "https://localhost:8080/",
          "height": 1000
        }
      },
      "source": [
        "df"
      ],
      "execution_count": 33,
      "outputs": [
        {
          "output_type": "execute_result",
          "data": {
            "text/html": [
              "<div>\n",
              "<style scoped>\n",
              "    .dataframe tbody tr th:only-of-type {\n",
              "        vertical-align: middle;\n",
              "    }\n",
              "\n",
              "    .dataframe tbody tr th {\n",
              "        vertical-align: top;\n",
              "    }\n",
              "\n",
              "    .dataframe thead th {\n",
              "        text-align: right;\n",
              "    }\n",
              "</style>\n",
              "<table border=\"1\" class=\"dataframe\">\n",
              "  <thead>\n",
              "    <tr style=\"text-align: right;\">\n",
              "      <th></th>\n",
              "      <th>Question</th>\n",
              "      <th>Answer</th>\n",
              "      <th>scores</th>\n",
              "    </tr>\n",
              "  </thead>\n",
              "  <tbody>\n",
              "    <tr>\n",
              "      <th>0</th>\n",
              "      <td>Why do we create Art?</td>\n",
              "      <td>The answer is simple: we  create because we wa...</td>\n",
              "      <td>0.426580</td>\n",
              "    </tr>\n",
              "    <tr>\n",
              "      <th>1</th>\n",
              "      <td>What is free will?</td>\n",
              "      <td>What is intelligence?\"I explained to him the p...</td>\n",
              "      <td>0.490930</td>\n",
              "    </tr>\n",
              "    <tr>\n",
              "      <th>2</th>\n",
              "      <td>What is freedom</td>\n",
              "      <td>This is beyond my knowledge but here's what I ...</td>\n",
              "      <td>0.401219</td>\n",
              "    </tr>\n",
              "    <tr>\n",
              "      <th>3</th>\n",
              "      <td>What is truth?</td>\n",
              "      <td>there is a great deal that most of us can indi...</td>\n",
              "      <td>0.729095</td>\n",
              "    </tr>\n",
              "    <tr>\n",
              "      <th>4</th>\n",
              "      <td>What is the soul?</td>\n",
              "      <td>Nandi</td>\n",
              "      <td>0.500939</td>\n",
              "    </tr>\n",
              "    <tr>\n",
              "      <th>5</th>\n",
              "      <td>What do you fear most?</td>\n",
              "      <td>I fear failure, deprivation,  uncertainty</td>\n",
              "      <td>0.173011</td>\n",
              "    </tr>\n",
              "    <tr>\n",
              "      <th>6</th>\n",
              "      <td>Is there such a thing as luck</td>\n",
              "      <td>If there is one thing outsiders dislike, it is...</td>\n",
              "      <td>0.510805</td>\n",
              "    </tr>\n",
              "    <tr>\n",
              "      <th>7</th>\n",
              "      <td>Are clowns funny or scary?</td>\n",
              "      <td>They are neither, and they should never be  ma...</td>\n",
              "      <td>0.756252</td>\n",
              "    </tr>\n",
              "    <tr>\n",
              "      <th>8</th>\n",
              "      <td>What are rights?</td>\n",
              "      <td>This is beyond my knowledge but here's what I ...</td>\n",
              "      <td>0.441959</td>\n",
              "    </tr>\n",
              "    <tr>\n",
              "      <th>9</th>\n",
              "      <td>What is mercy?</td>\n",
              "      <td>What is its origin?And  what are the distincti...</td>\n",
              "      <td>0.382704</td>\n",
              "    </tr>\n",
              "    <tr>\n",
              "      <th>10</th>\n",
              "      <td>What is self-esteem?</td>\n",
              "      <td>I too could aspire to become whatever I wished</td>\n",
              "      <td>0.739340</td>\n",
              "    </tr>\n",
              "    <tr>\n",
              "      <th>11</th>\n",
              "      <td>what is age?</td>\n",
              "      <td>sixty years of age</td>\n",
              "      <td>0.431141</td>\n",
              "    </tr>\n",
              "    <tr>\n",
              "      <th>12</th>\n",
              "      <td>Can money buy happiness?</td>\n",
              "      <td>The entire room was irradiated with happiness.</td>\n",
              "      <td>0.611861</td>\n",
              "    </tr>\n",
              "    <tr>\n",
              "      <th>13</th>\n",
              "      <td>Do you like music?</td>\n",
              "      <td>I filled my room with the music of Bismillah K...</td>\n",
              "      <td>0.556107</td>\n",
              "    </tr>\n",
              "    <tr>\n",
              "      <th>14</th>\n",
              "      <td>What are dreams?</td>\n",
              "      <td>two plans have evolved out of the nation's dreams</td>\n",
              "      <td>0.383844</td>\n",
              "    </tr>\n",
              "    <tr>\n",
              "      <th>15</th>\n",
              "      <td>How to be happy?</td>\n",
              "      <td>I am happy to see your work</td>\n",
              "      <td>0.348155</td>\n",
              "    </tr>\n",
              "    <tr>\n",
              "      <th>16</th>\n",
              "      <td>What is beauty?</td>\n",
              "      <td>What is the science of beauty?I am an intellec...</td>\n",
              "      <td>0.528411</td>\n",
              "    </tr>\n",
              "    <tr>\n",
              "      <th>17</th>\n",
              "      <td>Should you forgive people?</td>\n",
              "      <td>Of course not!But  try to be sensitive and sen...</td>\n",
              "      <td>0.576396</td>\n",
              "    </tr>\n",
              "    <tr>\n",
              "      <th>18</th>\n",
              "      <td>Is our universe real?</td>\n",
              "      <td>This is made real</td>\n",
              "      <td>0.353790</td>\n",
              "    </tr>\n",
              "    <tr>\n",
              "      <th>19</th>\n",
              "      <td>Does god exist?</td>\n",
              "      <td>They exist at various levels of the human pers...</td>\n",
              "      <td>0.547954</td>\n",
              "    </tr>\n",
              "    <tr>\n",
              "      <th>20</th>\n",
              "      <td>What is friendship?</td>\n",
              "      <td>equal warmth</td>\n",
              "      <td>0.446133</td>\n",
              "    </tr>\n",
              "    <tr>\n",
              "      <th>21</th>\n",
              "      <td>What is patriotism?</td>\n",
              "      <td>What makes a man patriotic?For many, their con...</td>\n",
              "      <td>0.405548</td>\n",
              "    </tr>\n",
              "    <tr>\n",
              "      <th>22</th>\n",
              "      <td>Are wars necessary?</td>\n",
              "      <td>wars were waged over religious and ideological...</td>\n",
              "      <td>0.328211</td>\n",
              "    </tr>\n",
              "    <tr>\n",
              "      <th>23</th>\n",
              "      <td>What is time?</td>\n",
              "      <td>a second re-organization</td>\n",
              "      <td>0.425889</td>\n",
              "    </tr>\n",
              "    <tr>\n",
              "      <th>24</th>\n",
              "      <td>What do you think about time travel?</td>\n",
              "      <td>I don't know  about time travel itself, but I ...</td>\n",
              "      <td>0.419822</td>\n",
              "    </tr>\n",
              "    <tr>\n",
              "      <th>25</th>\n",
              "      <td>What is philosophy?</td>\n",
              "      <td>one-to- one substitution</td>\n",
              "      <td>0.621590</td>\n",
              "    </tr>\n",
              "    <tr>\n",
              "      <th>26</th>\n",
              "      <td>Who are you?</td>\n",
              "      <td>Who are you not?  When I look at myself, I do ...</td>\n",
              "      <td>0.621595</td>\n",
              "    </tr>\n",
              "    <tr>\n",
              "      <th>27</th>\n",
              "      <td>Do animals have feelings?</td>\n",
              "      <td>I experienced mixed feelings</td>\n",
              "      <td>0.428203</td>\n",
              "    </tr>\n",
              "    <tr>\n",
              "      <th>28</th>\n",
              "      <td>What is the goal of life?</td>\n",
              "      <td>the goal that makes the difference</td>\n",
              "      <td>0.234005</td>\n",
              "    </tr>\n",
              "    <tr>\n",
              "      <th>29</th>\n",
              "      <td>Is lying okay?</td>\n",
              "      <td>I  wondered, as he had never once lied to me</td>\n",
              "      <td>0.629452</td>\n",
              "    </tr>\n",
              "    <tr>\n",
              "      <th>30</th>\n",
              "      <td>Is humanity headed in the right direction?</td>\n",
              "      <td>I believe we can answer this question with the...</td>\n",
              "      <td>0.588565</td>\n",
              "    </tr>\n",
              "    <tr>\n",
              "      <th>31</th>\n",
              "      <td>What is wisdom?</td>\n",
              "      <td>And what are these  things?Wisdom is a percept...</td>\n",
              "      <td>0.114454</td>\n",
              "    </tr>\n",
              "    <tr>\n",
              "      <th>32</th>\n",
              "      <td>What is waste of human potential?</td>\n",
              "      <td>It is the absence of  creativity in human life</td>\n",
              "      <td>0.266629</td>\n",
              "    </tr>\n",
              "    <tr>\n",
              "      <th>33</th>\n",
              "      <td>What is funny?</td>\n",
              "      <td>Is it not,  though,  somehow connected to the ...</td>\n",
              "      <td>0.755676</td>\n",
              "    </tr>\n",
              "    <tr>\n",
              "      <th>34</th>\n",
              "      <td>Are animals moral?</td>\n",
              "      <td>moral compulsion</td>\n",
              "      <td>0.333357</td>\n",
              "    </tr>\n",
              "    <tr>\n",
              "      <th>35</th>\n",
              "      <td>is privacy a right?</td>\n",
              "      <td>A  person has no privacy if he is not free to ...</td>\n",
              "      <td>0.662592</td>\n",
              "    </tr>\n",
              "    <tr>\n",
              "      <th>36</th>\n",
              "      <td>What is your definition of evil?</td>\n",
              "      <td>I suppose, I could define it as the doing of e...</td>\n",
              "      <td>0.228985</td>\n",
              "    </tr>\n",
              "    <tr>\n",
              "      <th>37</th>\n",
              "      <td>Is censorship necessary?</td>\n",
              "      <td>I have had people with me  who would argue tha...</td>\n",
              "      <td>0.507752</td>\n",
              "    </tr>\n",
              "    <tr>\n",
              "      <th>38</th>\n",
              "      <td>Who are you?</td>\n",
              "      <td>Who are you not?  When I ask these questions, ...</td>\n",
              "      <td>0.677478</td>\n",
              "    </tr>\n",
              "    <tr>\n",
              "      <th>39</th>\n",
              "      <td>How to be confident?</td>\n",
              "      <td>tense</td>\n",
              "      <td>0.390658</td>\n",
              "    </tr>\n",
              "    <tr>\n",
              "      <th>40</th>\n",
              "      <td>Is everyone's life value equal?</td>\n",
              "      <td>His friendship embraced with equal warmth</td>\n",
              "      <td>0.435992</td>\n",
              "    </tr>\n",
              "  </tbody>\n",
              "</table>\n",
              "</div>"
            ],
            "text/plain": [
              "                                      Question  ...    scores\n",
              "0                        Why do we create Art?  ...  0.426580\n",
              "1                           What is free will?  ...  0.490930\n",
              "2                              What is freedom  ...  0.401219\n",
              "3                               What is truth?  ...  0.729095\n",
              "4                            What is the soul?  ...  0.500939\n",
              "5                       What do you fear most?  ...  0.173011\n",
              "6                Is there such a thing as luck  ...  0.510805\n",
              "7                   Are clowns funny or scary?  ...  0.756252\n",
              "8                             What are rights?  ...  0.441959\n",
              "9                               What is mercy?  ...  0.382704\n",
              "10                        What is self-esteem?  ...  0.739340\n",
              "11                                what is age?  ...  0.431141\n",
              "12                    Can money buy happiness?  ...  0.611861\n",
              "13                          Do you like music?  ...  0.556107\n",
              "14                            What are dreams?  ...  0.383844\n",
              "15                            How to be happy?  ...  0.348155\n",
              "16                             What is beauty?  ...  0.528411\n",
              "17                  Should you forgive people?  ...  0.576396\n",
              "18                       Is our universe real?  ...  0.353790\n",
              "19                             Does god exist?  ...  0.547954\n",
              "20                         What is friendship?  ...  0.446133\n",
              "21                         What is patriotism?  ...  0.405548\n",
              "22                         Are wars necessary?  ...  0.328211\n",
              "23                               What is time?  ...  0.425889\n",
              "24        What do you think about time travel?  ...  0.419822\n",
              "25                         What is philosophy?  ...  0.621590\n",
              "26                                Who are you?  ...  0.621595\n",
              "27                   Do animals have feelings?  ...  0.428203\n",
              "28                   What is the goal of life?  ...  0.234005\n",
              "29                              Is lying okay?  ...  0.629452\n",
              "30  Is humanity headed in the right direction?  ...  0.588565\n",
              "31                             What is wisdom?  ...  0.114454\n",
              "32           What is waste of human potential?  ...  0.266629\n",
              "33                              What is funny?  ...  0.755676\n",
              "34                          Are animals moral?  ...  0.333357\n",
              "35                         is privacy a right?  ...  0.662592\n",
              "36            What is your definition of evil?  ...  0.228985\n",
              "37                    Is censorship necessary?  ...  0.507752\n",
              "38                                Who are you?  ...  0.677478\n",
              "39                        How to be confident?  ...  0.390658\n",
              "40             Is everyone's life value equal?  ...  0.435992\n",
              "\n",
              "[41 rows x 3 columns]"
            ]
          },
          "metadata": {
            "tags": []
          },
          "execution_count": 33
        }
      ]
    },
    {
      "cell_type": "code",
      "metadata": {
        "id": "aPJ78UmWERTV"
      },
      "source": [
        "with open(\"/content/drive/My Drive/Thesis project/Thesis project/datasets/post BERT/pred_C_final.json\",\"w\") as f:\n",
        "  f.write(predictions)"
      ],
      "execution_count": 34,
      "outputs": []
    },
    {
      "cell_type": "code",
      "metadata": {
        "id": "y-l6QHyntqPT"
      },
      "source": [
        ""
      ],
      "execution_count": null,
      "outputs": []
    }
  ]
}