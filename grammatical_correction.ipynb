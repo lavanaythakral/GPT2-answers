{
  "nbformat": 4,
  "nbformat_minor": 0,
  "metadata": {
    "colab": {
      "name": "grammatical_correction.ipynb",
      "provenance": [],
      "authorship_tag": "ABX9TyNyQ8DUy/T4Qj8gLdvmbtjB",
      "include_colab_link": true
    },
    "kernelspec": {
      "name": "python3",
      "display_name": "Python 3"
    },
    "accelerator": "GPU"
  },
  "cells": [
    {
      "cell_type": "markdown",
      "metadata": {
        "id": "view-in-github",
        "colab_type": "text"
      },
      "source": [
        "<a href=\"https://colab.research.google.com/github/lavanaythakral/GPT2-answers/blob/master/grammatical_correction.ipynb\" target=\"_parent\"><img src=\"https://colab.research.google.com/assets/colab-badge.svg\" alt=\"Open In Colab\"/></a>"
      ]
    },
    {
      "cell_type": "code",
      "metadata": {
        "id": "lBlwZp2yAWU5",
        "outputId": "9731960f-0135-4fa0-c8a7-94fceff3738d",
        "colab": {
          "base_uri": "https://localhost:8080/",
          "height": 261
        }
      },
      "source": [
        "!pip install --upgrade fastpunct"
      ],
      "execution_count": 1,
      "outputs": [
        {
          "output_type": "stream",
          "text": [
            "Collecting fastpunct\n",
            "  Downloading https://files.pythonhosted.org/packages/8e/dd/4d7c811e797d63be8b238f75d40919a84936894934ccb39a40225f17fd94/fastpunct-1.0.2-py3-none-any.whl\n",
            "Requirement already satisfied, skipping upgrade: numpy in /usr/local/lib/python3.6/dist-packages (from fastpunct) (1.18.5)\n",
            "Collecting pydload\n",
            "  Downloading https://files.pythonhosted.org/packages/48/24/16774693bf1a95690457a6551bd320d1d6cf1cf4aca591e5262d5d42dc85/pydload-1.0.8-py2.py3-none-any.whl\n",
            "Requirement already satisfied, skipping upgrade: requests in /usr/local/lib/python3.6/dist-packages (from pydload->fastpunct) (2.23.0)\n",
            "Requirement already satisfied, skipping upgrade: progressbar2 in /usr/local/lib/python3.6/dist-packages (from pydload->fastpunct) (3.38.0)\n",
            "Requirement already satisfied, skipping upgrade: certifi>=2017.4.17 in /usr/local/lib/python3.6/dist-packages (from requests->pydload->fastpunct) (2020.6.20)\n",
            "Requirement already satisfied, skipping upgrade: idna<3,>=2.5 in /usr/local/lib/python3.6/dist-packages (from requests->pydload->fastpunct) (2.10)\n",
            "Requirement already satisfied, skipping upgrade: urllib3!=1.25.0,!=1.25.1,<1.26,>=1.21.1 in /usr/local/lib/python3.6/dist-packages (from requests->pydload->fastpunct) (1.24.3)\n",
            "Requirement already satisfied, skipping upgrade: chardet<4,>=3.0.2 in /usr/local/lib/python3.6/dist-packages (from requests->pydload->fastpunct) (3.0.4)\n",
            "Requirement already satisfied, skipping upgrade: six in /usr/local/lib/python3.6/dist-packages (from progressbar2->pydload->fastpunct) (1.15.0)\n",
            "Requirement already satisfied, skipping upgrade: python-utils>=2.3.0 in /usr/local/lib/python3.6/dist-packages (from progressbar2->pydload->fastpunct) (2.4.0)\n",
            "Installing collected packages: pydload, fastpunct\n",
            "Successfully installed fastpunct-1.0.2 pydload-1.0.8\n"
          ],
          "name": "stdout"
        }
      ]
    },
    {
      "cell_type": "code",
      "metadata": {
        "id": "zkwFcLekAyQ6"
      },
      "source": [
        "from fastpunct import FastPunct\n",
        "from google.colab import drive\n",
        "import pandas as pd\n",
        "fastpunct = FastPunct('en')"
      ],
      "execution_count": 14,
      "outputs": []
    },
    {
      "cell_type": "code",
      "metadata": {
        "id": "FGuUOULyCJdK",
        "outputId": "ae2e0fea-cc16-4119-87f9-83c9b6265956",
        "colab": {
          "base_uri": "https://localhost:8080/",
          "height": 33
        }
      },
      "source": [
        "drive.mount('/content/drive')"
      ],
      "execution_count": 15,
      "outputs": [
        {
          "output_type": "stream",
          "text": [
            "Drive already mounted at /content/drive; to attempt to forcibly remount, call drive.mount(\"/content/drive\", force_remount=True).\n"
          ],
          "name": "stdout"
        }
      ]
    },
    {
      "cell_type": "markdown",
      "metadata": {
        "id": "XnA09zhJBW6C"
      },
      "source": [
        "#Data"
      ]
    },
    {
      "cell_type": "code",
      "metadata": {
        "id": "NQ2QGft_BEn_"
      },
      "source": [
        "filename = \"/content/drive/My Drive/Thesis project/Thesis project/datasets/post BERT/responses_philosophy.csv\"\n",
        "df = pd.read_csv(filename)\n",
        "answers = list(df['Answer'])"
      ],
      "execution_count": 7,
      "outputs": []
    },
    {
      "cell_type": "markdown",
      "metadata": {
        "id": "-tPE5WkrCaW9"
      },
      "source": [
        "#Correction"
      ]
    },
    {
      "cell_type": "code",
      "metadata": {
        "id": "lh0pUC4JBhlT"
      },
      "source": [
        "ret = fastpunct.punct(answers,batch_size = 32)"
      ],
      "execution_count": 9,
      "outputs": []
    },
    {
      "cell_type": "code",
      "metadata": {
        "id": "-LA68fdaBz8p"
      },
      "source": [
        "df['Answer'] = ret\n",
        "df.to_csv(filename)"
      ],
      "execution_count": 17,
      "outputs": []
    }
  ]
}